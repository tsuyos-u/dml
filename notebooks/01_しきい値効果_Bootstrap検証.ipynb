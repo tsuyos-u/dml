{
 "cells": [
  {
   "cell_type": "code",
   "execution_count": 1,
   "id": "801916e9-a298-4e88-b3ff-942814f614bb",
   "metadata": {},
   "outputs": [],
   "source": [
    "import json\n",
    "import joblib\n",
    "from pathlib import Path\n",
    "\n",
    "from econml.dml import LinearDML, DML\n",
    "from catboost import CatBoostClassifier, CatBoostRegressor\n",
    "import matplotlib.pyplot as plt\n",
    "import numpy as np\n",
    "import pandas as pd\n",
    "import seaborn as sns\n",
    "import tqdm\n",
    "\n",
    "from sklearn.model_selection import GroupKFold, StratifiedGroupKFold"
   ]
  },
  {
   "cell_type": "code",
   "execution_count": 2,
   "id": "4a192eaa-1b33-4b41-b861-36939a743959",
   "metadata": {},
   "outputs": [],
   "source": [
    "class GroupStratifiedKFold:\n",
    "    def __init__(self, n_splits: int = 3, random_state: int = None):\n",
    "        self.sgk = StratifiedGroupKFold(\n",
    "            n_splits=n_splits,\n",
    "            shuffle=True,\n",
    "            random_state=random_state\n",
    "        )\n",
    "\n",
    "    def split(self, X, y, groups):\n",
    "        return self.sgk.split(X, y, groups)"
   ]
  },
  {
   "cell_type": "code",
   "execution_count": 3,
   "id": "b244b8f2-b391-490c-816d-ba3dfcf9bbea",
   "metadata": {},
   "outputs": [],
   "source": [
    "data_path = Path(\"../data\")\n",
    "file_name = \"ToAnalysis_Winsorized_2015_2023_With_Profit_Asset.csv\"\n",
    "file_path = data_path / file_name\n",
    "\n",
    "df = pd.read_csv(file_path, parse_dates=['start date'])\n",
    "df.columns = [col.replace(\" \", \"_\").lower() for col in df.columns]\n",
    "df = df.sort_values(by=['ticker', 'start_date'])\n",
    "\n",
    "df[\"log_tobin_q_winsor\"] = np.log(df['tobin_q_winsor'])\n",
    "df[\"year\"] = df.start_date.dt.year\n",
    "df[\"roa\"] = df[\"net_income\"].div(df[\"total_assets\"])\n",
    "df[\"log_total_assets\"] = np.log(df['total_assets'])\n",
    "df[\"log_leverage\"] = np.log(df['leverage'])\n",
    "df[\"log_tangible_assets\"] = np.log(df['tangible_assets'])\n",
    "\n",
    "# df = df.assign(lag_log_tobin_q_winsor=df.groupby(by=['ticker']).log_tobin_q_winsor.shift(-1))"
   ]
  },
  {
   "cell_type": "code",
   "execution_count": 4,
   "id": "d232c3cf-413a-4a1c-bbe1-bc10b49f411c",
   "metadata": {},
   "outputs": [],
   "source": [
    "df['female_threshold'] = df['female_director_ratio'].mask((df['female_director_ratio']<= 0.1) & (df['female_director_ratio']> 0), 1)\n",
    "df['female_threshold'] = df['female_threshold'].mask((df['female_director_ratio']<= 0.2) & (df['female_director_ratio']> 0.1), 2)\n",
    "df['female_threshold'] = df['female_threshold'].mask((df['female_director_ratio']<= 0.3) & (df['female_director_ratio']> 0.2), 3)\n",
    "df['female_threshold'] = df['female_threshold'].mask((df['female_director_ratio']> 0.3), 4)"
   ]
  },
  {
   "cell_type": "code",
   "execution_count": 5,
   "id": "b026824e-0023-420b-9572-6638e0e69a47",
   "metadata": {},
   "outputs": [],
   "source": [
    "year = pd.get_dummies(df['year'], dtype='int')\n",
    "year = year.drop(2015, axis=1)\n",
    "\n",
    "# 業種の固定効果\n",
    "industry = pd.get_dummies(df['industry_name'], dtype='int')\n",
    "industry = industry.drop(\"その他製品\", axis=1)"
   ]
  },
  {
   "cell_type": "code",
   "execution_count": 6,
   "id": "a7229646-3c43-4d63-ab11-c26df996aaf6",
   "metadata": {},
   "outputs": [],
   "source": [
    "Y_cols = ['log_tobin_q_winsor']\n",
    "\n",
    "# Lag Version\n",
    "Y_cols = ['log_tobin_q_winsor']\n",
    "\n",
    "# Control 変数 (ROAは入れた方が予測性能がよくなる)\n",
    "W_cols = [\n",
    "    'board_size', \n",
    "    'log_firm_age', \n",
    "    'log_sales',\n",
    "    'sales_growth', \n",
    "    'foreign_ownership', \n",
    "    'managerial_ownership',\n",
    "    'log_tangible_assets', \n",
    "    'log_leverage',\n",
    "    'roa',\n",
    "    'net_income'\n",
    "]\n",
    "\n",
    "X_cols = []\n",
    "T_cols = ['female_threshold']\n",
    "G_cols = ['ticker']\n",
    "\n",
    "mundlak_W = df.groupby(by='ticker')[W_cols + X_cols].transform(\"mean\")\n",
    "mundlak_W.columns = [f\"{col}_mean\" for col in mundlak_W.columns]\n",
    "\n",
    "mundlak_T = df.groupby(by='ticker')[T_cols].transform(\"mean\")\n",
    "mundlak_T.columns = [f\"{col}_mean\" for col in mundlak_T.columns]\n",
    "\n",
    "# コントロール変数\n",
    "W = df[W_cols]\n",
    "W = W.join(mundlak_T).join(mundlak_W)\n",
    "W = W.join(year).join(industry)\n",
    "\n",
    "# 説明変数\n",
    "X = df[X_cols]\n",
    "\n",
    "# 出力\n",
    "Y = df[Y_cols]\n",
    "\n",
    "# 介入\n",
    "T = df[T_cols]\n",
    "\n",
    "# Groups\n",
    "G = df['ticker']\n",
    "\n",
    "tmp = pd.concat((W, X, Y, T, G), axis=1).dropna(how='any', axis=0)\n",
    "\n",
    "W = W.loc[tmp.index]\n",
    "X = X.loc[tmp.index]\n",
    "Y = Y.loc[tmp.index]\n",
    "T = T.loc[tmp.index]\n",
    "G = G.loc[tmp.index]"
   ]
  },
  {
   "cell_type": "code",
   "execution_count": 7,
   "id": "20c142d9-e5e4-4af1-8cae-a545064eab59",
   "metadata": {},
   "outputs": [],
   "source": [
    "# Catboost を使用\n",
    "model_y = CatBoostRegressor(loss_function=\"RMSE\", verbose=0)\n",
    "model_t = CatBoostClassifier(\n",
    "    loss_function=\"MultiClass\",\n",
    "    eval_metric=\"MultiClass\",  # 学習時の指標は log-loss\n",
    "    verbose=0\n",
    ")"
   ]
  },
  {
   "cell_type": "code",
   "execution_count": 8,
   "id": "4878b655-11b3-4794-b601-72bf4c6be0a4",
   "metadata": {},
   "outputs": [
    {
     "data": {
      "text/plain": [
       "<econml.dml.dml.LinearDML at 0x30f871b90>"
      ]
     },
     "execution_count": 8,
     "metadata": {},
     "output_type": "execute_result"
    }
   ],
   "source": [
    "dml0 = LinearDML(model_y=model_y, model_t=model_t, discrete_treatment=True,\n",
    "                 cv = GroupStratifiedKFold(n_splits=3)\n",
    "                )\n",
    "dml0.fit(Y.values.ravel(),\n",
    "         T.values.ravel(),\n",
    "         W=W.values,         \n",
    "         groups=G.values, cache_values=True)"
   ]
  },
  {
   "cell_type": "code",
   "execution_count": 9,
   "id": "45bbdba5-7efe-4150-88a5-dc3c5d363299",
   "metadata": {},
   "outputs": [],
   "source": [
    "y_res, t_res, _, _ = dml0.residuals_\n",
    "\n",
    "theta_hat = dml0.intercept_.ravel()        # shape (k,)\n",
    "y_res     = y_res.ravel()                  # shape (n,)\n",
    "t_res     = t_res                          # shape (n, k)\n",
    "\n",
    "cluster_idx, clust_labels = pd.factorize(G)\n",
    "num_clusters = clust_labels.size\n",
    "n = len(y_res)\n",
    "k = theta_hat.size"
   ]
  },
  {
   "cell_type": "code",
   "execution_count": 16,
   "id": "08899271-563e-4a7b-a2cb-8e7673950fdf",
   "metadata": {},
   "outputs": [
    {
     "data": {
      "text/plain": [
       "(array([ 0.01082584, -0.00130258, -0.02041331,  0.0439508 ]),\n",
       " array([0.06089725, 0.06437904, 0.07035166, 0.19466055]))"
      ]
     },
     "execution_count": 16,
     "metadata": {},
     "output_type": "execute_result"
    }
   ],
   "source": [
    "dml0.intercept__interval()"
   ]
  },
  {
   "cell_type": "code",
   "execution_count": 27,
   "id": "8940e96e-73d8-4fdf-b69c-9177a2fb90a6",
   "metadata": {},
   "outputs": [],
   "source": [
    "theta_hat = dml0.intercept_.ravel()        # shape (k,)\n",
    "y_res     = y_res.ravel()                  # shape (n,)\n",
    "t_res     = t_res                          # shape (n, k)\n",
    "\n",
    "cluster_idx, clust_labels = pd.factorize(G)\n",
    "num_clusters = clust_labels.size\n",
    "n = len(y_res)\n",
    "k = theta_hat.size\n",
    "\n",
    "# ── 1. ヤコビアン J_hat (k×k) ───────────────────────\n",
    "J_hat = (t_res[:, :, None] * t_res[:, None, :]).mean(0)   # E[ t̃ t̃ᵀ ]\n",
    "J_inv = np.linalg.inv(J_hat)\n",
    "\n",
    "# ── 2. スコア ψ_i (n×k) ────────────────────────────\n",
    "psi_i = t_res * (y_res - t_res.dot(theta_hat))[:, None]   # n × k\n",
    "psi_i -= psi_i.mean(0, keepdims=True)                    # 再中心化\n",
    "\n",
    "# ── 3. クラスタごとの合計 g_c ∈ ℝ^{k} ───────────────\n",
    "cluster_sums = np.zeros((num_clusters, k))\n",
    "for c in range(num_clusters):\n",
    "    cluster_sums[c] = psi_i[cluster_idx == c].sum(0)\n",
    "\n",
    "# ── 4. サンドイッチ分散 (k×k) ───────────────────────\n",
    "B_hat = cluster_sums.T @ cluster_sums / n**2              # “meat”\n",
    "cov_hat = J_inv @ B_hat @ J_inv.T                         # sandwich\n",
    "se_hat = np.sqrt(np.diag(cov_hat))                       # (k,)\n",
    "\n",
    "t_obs = theta_hat / se_hat                                # (k,)\n",
    "\n",
    "# ── 5. クラスタ wild bootstrap (Rademacher) ──────────\n",
    "n_boot = 100_000\n",
    "rng = np.random.default_rng(450)\n",
    "rad = np.array([-1, 1])\n",
    "t_boot = np.empty((n_boot, k))\n",
    "\n",
    "for b in range(n_boot):\n",
    "    w_g = rng.choice(rad, size=num_clusters)              # ±1 per cluster\n",
    "    psi_star = (w_g[:, None] * cluster_sums).sum(0) / n   # ψ̄*  (k,)\n",
    "    theta_star = J_inv @ psi_star                         # bootstrap θ*\n",
    "    t_boot[b] = theta_star / se_hat\n",
    "\n",
    "# ── 6. 95% 信頼区間と p 値 ─────────────────────────\n",
    "p_two = (np.abs(t_boot) >= np.abs(t_obs)).mean(0)         # 各係数の両側 p 値\n",
    "\n",
    "q_lo, q_hi = np.quantile(t_boot, [0.95, 0.05], axis=0)  # パーセント点 (k,)\n",
    "ci_lower = theta_hat - q_lo * se_hat\n",
    "ci_upper = theta_hat - q_hi * se_hat"
   ]
  },
  {
   "cell_type": "code",
   "execution_count": 28,
   "id": "d70f5f6f-4463-4d7f-9b8d-27d7d9a2f1db",
   "metadata": {},
   "outputs": [
    {
     "data": {
      "text/plain": [
       "array([ 0.00706089,  0.00136728, -0.01182581,  0.04889624])"
      ]
     },
     "execution_count": 28,
     "metadata": {},
     "output_type": "execute_result"
    }
   ],
   "source": [
    "print(ci_lower\n",
    "ci_upper"
   ]
  },
  {
   "cell_type": "code",
   "execution_count": 29,
   "id": "178c7013-183a-436b-91c8-8344a51b9761",
   "metadata": {},
   "outputs": [
    {
     "data": {
      "text/plain": [
       "array([0.06478542, 0.06176486, 0.06148873, 0.19007899])"
      ]
     },
     "execution_count": 29,
     "metadata": {},
     "output_type": "execute_result"
    }
   ],
   "source": []
  },
  {
   "cell_type": "code",
   "execution_count": 18,
   "id": "6cbfbb9a-1341-49a1-84d2-460b66fed0f1",
   "metadata": {},
   "outputs": [
    {
     "name": "stdout",
     "output_type": "stream",
     "text": [
      "Coefficient Results:  X is None, please call intercept_inference to learn the constant!\n"
     ]
    },
    {
     "data": {
      "text/html": [
       "<table class=\"simpletable\">\n",
       "<caption>CATE Intercept Results</caption>\n",
       "<tr>\n",
       "            <td></td>            <th>point_estimate</th> <th>stderr</th> <th>zstat</th> <th>pvalue</th> <th>ci_lower</th> <th>ci_upper</th>\n",
       "</tr>\n",
       "<tr>\n",
       "  <th>cate_intercept|T0_1.0</th>      <td>0.036</td>      <td>0.013</td> <td>2.807</td>  <td>0.005</td>   <td>0.011</td>    <td>0.061</td> \n",
       "</tr>\n",
       "<tr>\n",
       "  <th>cate_intercept|T0_2.0</th>      <td>0.032</td>      <td>0.017</td> <td>1.882</td>  <td>0.06</td>   <td>-0.001</td>    <td>0.064</td> \n",
       "</tr>\n",
       "<tr>\n",
       "  <th>cate_intercept|T0_3.0</th>      <td>0.025</td>      <td>0.023</td> <td>1.078</td>  <td>0.281</td>   <td>-0.02</td>    <td>0.07</td>  \n",
       "</tr>\n",
       "<tr>\n",
       "  <th>cate_intercept|T0_4.0</th>      <td>0.119</td>      <td>0.038</td> <td>3.103</td>  <td>0.002</td>   <td>0.044</td>    <td>0.195</td> \n",
       "</tr>\n",
       "</table><br/><br/><sub>A linear parametric conditional average treatment effect (CATE) model was fitted:<br/>$Y = \\Theta(X)\\cdot T + g(X, W) + \\epsilon$<br/>where for every outcome $i$ and treatment $j$ the CATE $\\Theta_{ij}(X)$ has the form:<br/>$\\Theta_{ij}(X) = X' coef_{ij} + cate\\_intercept_{ij}$<br/>Coefficient Results table portrays the $coef_{ij}$ parameter vector for each outcome $i$ and treatment $j$. Intercept Results table portrays the $cate\\_intercept_{ij}$ parameter.</sub>"
      ],
      "text/plain": [
       "<class 'econml.utilities.Summary'>\n",
       "\"\"\"\n",
       "                          CATE Intercept Results                          \n",
       "==========================================================================\n",
       "                      point_estimate stderr zstat pvalue ci_lower ci_upper\n",
       "--------------------------------------------------------------------------\n",
       "cate_intercept|T0_1.0          0.036  0.013 2.807  0.005    0.011    0.061\n",
       "cate_intercept|T0_2.0          0.032  0.017 1.882   0.06   -0.001    0.064\n",
       "cate_intercept|T0_3.0          0.025  0.023 1.078  0.281    -0.02     0.07\n",
       "cate_intercept|T0_4.0          0.119  0.038 3.103  0.002    0.044    0.195\n",
       "--------------------------------------------------------------------------\n",
       "\n",
       "<sub>A linear parametric conditional average treatment effect (CATE) model was fitted:\n",
       "$Y = \\Theta(X)\\cdot T + g(X, W) + \\epsilon$\n",
       "where for every outcome $i$ and treatment $j$ the CATE $\\Theta_{ij}(X)$ has the form:\n",
       "$\\Theta_{ij}(X) = X' coef_{ij} + cate\\_intercept_{ij}$\n",
       "Coefficient Results table portrays the $coef_{ij}$ parameter vector for each outcome $i$ and treatment $j$. Intercept Results table portrays the $cate\\_intercept_{ij}$ parameter.</sub>\n",
       "\"\"\""
      ]
     },
     "execution_count": 18,
     "metadata": {},
     "output_type": "execute_result"
    }
   ],
   "source": [
    "dml0.summary()"
   ]
  },
  {
   "cell_type": "code",
   "execution_count": 21,
   "id": "52b3599b-7fb4-49d6-8d6a-67aba37614b9",
   "metadata": {},
   "outputs": [
    {
     "data": {
      "text/plain": [
       "array([0.01750173, 0.01836437, 0.02220397, 0.04299113])"
      ]
     },
     "execution_count": 21,
     "metadata": {},
     "output_type": "execute_result"
    }
   ],
   "source": [
    "se_hat"
   ]
  },
  {
   "cell_type": "code",
   "execution_count": null,
   "id": "6ce62e83-785a-4a62-8e77-e1a7491a8984",
   "metadata": {},
   "outputs": [],
   "source": []
  }
 ],
 "metadata": {
  "kernelspec": {
   "display_name": "Python 3 (ipykernel)",
   "language": "python",
   "name": "python3"
  },
  "language_info": {
   "codemirror_mode": {
    "name": "ipython",
    "version": 3
   },
   "file_extension": ".py",
   "mimetype": "text/x-python",
   "name": "python",
   "nbconvert_exporter": "python",
   "pygments_lexer": "ipython3",
   "version": "3.11.0"
  }
 },
 "nbformat": 4,
 "nbformat_minor": 5
}
