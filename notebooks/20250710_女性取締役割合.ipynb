{
 "cells": [
  {
   "cell_type": "code",
   "execution_count": null,
   "id": "c6965f02-5ca8-46c7-97fb-38915259aaea",
   "metadata": {},
   "outputs": [],
   "source": []
  },
  {
   "cell_type": "code",
   "execution_count": 1,
   "id": "ea2ea921-8913-4445-9119-164e099264f4",
   "metadata": {},
   "outputs": [],
   "source": [
    "import joblib\n",
    "from pathlib import Path\n",
    "\n",
    "from econml.dml import LinearDML, DML\n",
    "from econml.inference import BootstrapInference\n",
    "from lightgbm import LGBMRegressor\n",
    "import numpy as np\n",
    "import pandas as pd\n",
    "import tqdm\n",
    "\n",
    "from sklearn.linear_model import Ridge\n",
    "from sklearn.model_selection import GroupKFold\n",
    "from sklearn.base import clone"
   ]
  },
  {
   "cell_type": "code",
   "execution_count": 2,
   "id": "1f576d33-2be2-4226-9ab6-34b01f2e7cf4",
   "metadata": {},
   "outputs": [],
   "source": [
    "models = Path(\"models\")\n",
    "models.mkdir(parents=True, exist_ok=True)\n",
    "\n",
    "data_path = Path(\"../data\")\n",
    "file_name = \"ToAnalysis_Winsorized_2015_2023_With_Profit_Asset.csv\"\n",
    "file_path = data_path / file_name\n",
    "\n",
    "df = pd.read_csv(file_path, parse_dates=['start date'])\n",
    "df.columns = [col.replace(\" \", \"_\").lower() for col in df.columns]\n",
    "df = df.sort_values(by=['ticker', 'start_date'])\n",
    "\n",
    "df[\"log_tobin_q_winsor\"] = np.log(df['tobin_q_winsor'])\n",
    "df[\"year\"] = df.start_date.dt.year\n",
    "df[\"roa\"] = df[\"net_income\"].div(df[\"total_assets\"])"
   ]
  },
  {
   "cell_type": "code",
   "execution_count": 3,
   "id": "05745c24-19b8-4bcd-89fa-bc80fb4a5ddb",
   "metadata": {},
   "outputs": [],
   "source": [
    "# create dummies\n",
    "year = pd.get_dummies(df['year'], dtype='int', drop_first=True)\n",
    "industry = pd.get_dummies(df['industry_name'], dtype='int')\n",
    "industry = industry.drop(\"その他製品\", axis=1)"
   ]
  },
  {
   "cell_type": "code",
   "execution_count": 4,
   "id": "6ffce3ad-1431-42d4-b4fb-04f4464901c2",
   "metadata": {},
   "outputs": [],
   "source": [
    "Y_cols = ['log_tobin_q_winsor']\n",
    "W_cols = [\n",
    "    'board_size', \n",
    "    'log_firm_age', \n",
    "    'log_sales',\n",
    "    'sales_growth', \n",
    "    'foreign_ownership', \n",
    "    'managerial_ownership',\n",
    "    'tangible_assets', \n",
    "    'leverage'\n",
    "]\n",
    "T_cols = ['female_director_ratio']\n",
    "G_cols = ['ticker']"
   ]
  },
  {
   "cell_type": "code",
   "execution_count": 5,
   "id": "96fc7bc3-31f1-4b17-941a-764a83c2e6c9",
   "metadata": {},
   "outputs": [],
   "source": [
    "mundlak_W = df.groupby(by='ticker')[W_cols].transform(\"mean\")\n",
    "mundlak_W.columns = [f\"{col}_mean\" for col in mundlak_W.columns]\n",
    "\n",
    "mundlak_T = df.groupby(by='ticker')[T_cols].transform(\"mean\")\n",
    "mundlak_T.columns = [f\"{col}_mean\" for col in mundlak_T.columns]"
   ]
  },
  {
   "cell_type": "code",
   "execution_count": 6,
   "id": "7ebee711-32ed-4ca5-9b9e-834139dd02a3",
   "metadata": {},
   "outputs": [],
   "source": [
    "# コントロール変数\n",
    "W = df[W_cols].join(mundlak_T).join(mundlak_W).join(year)\n",
    "\n",
    "# 説明変数\n",
    "X = industry\n",
    "\n",
    "# 出力\n",
    "Y = df[Y_cols]\n",
    "\n",
    "# 介入\n",
    "T = df[T_cols]\n",
    "\n",
    "# Groups\n",
    "G = df['ticker']\n",
    "\n",
    "tmp = pd.concat((W, X, Y, T, G), axis=1).dropna(how='any', axis=0)\n",
    "\n",
    "W = W.loc[tmp.index]\n",
    "X = X.loc[tmp.index]\n",
    "Y = Y.loc[tmp.index]\n",
    "T = T.loc[tmp.index]\n",
    "G = G.loc[tmp.index]"
   ]
  },
  {
   "cell_type": "code",
   "execution_count": 7,
   "id": "5f2656ee-1eaa-4de6-8522-27544e8ade8b",
   "metadata": {},
   "outputs": [],
   "source": [
    "model_y = LGBMRegressor(force_row_wise=True, verbose=-1) # LinearRegression()\n",
    "model_t = LGBMRegressor(force_row_wise=True, verbose=-1) # LinearRegression()\n",
    "dml = LinearDML(\n",
    "    model_y = model_y,\n",
    "    model_t = model_t,\n",
    "    cv = GroupKFold(n_splits=3),   # 同じ企業を foldに跨らせない\n",
    ")"
   ]
  },
  {
   "cell_type": "code",
   "execution_count": null,
   "id": "90913c5d-f72c-4176-b2d9-d337a92db4dd",
   "metadata": {},
   "outputs": [
    {
     "data": {
      "application/vnd.jupyter.widget-view+json": {
       "model_id": "43ff50a185ba4bb0a47a68ba9a36c230",
       "version_major": 2,
       "version_minor": 0
      },
      "text/plain": [
       "  0%|          | 0/1000 [00:00<?, ?it/s]"
      ]
     },
     "metadata": {},
     "output_type": "display_data"
    }
   ],
   "source": [
    "seed = 42\n",
    "n_boot = 1000\n",
    "unique_groups = np.unique(G)\n",
    "rng = np.random.RandomState(42)        # 再現性\n",
    "\n",
    "# Cluster Bootstrap\n",
    "ate = list()\n",
    "for b in tqdm.notebook.tqdm(range(n_boot)):\n",
    "    sampled_groups = rng.choice(unique_groups, size=len(unique_groups), replace=True)\n",
    "    idx = np.concatenate([np.where(G == g)[0] for g in sampled_groups])\n",
    "\n",
    "    dml_b = DML(\n",
    "        model_y = model_y,\n",
    "        model_t = model_t,    \n",
    "        model_final=Ridge(alpha=1e-4, fit_intercept=False),\n",
    "        cv = GroupKFold(n_splits=3),   # 同じ企業を foldに跨らせない\n",
    "    )    \n",
    "    dml_b.fit(Y.values.ravel()[idx],\n",
    "              T.values.ravel()[idx],\n",
    "              X=X.values[idx],\n",
    "              W=W.values[idx],\n",
    "              groups=G.values[idx])\n",
    "\n",
    "    ate.append(dml_b.ate(X=X))\n",
    "    file_name = f\"{b:02d}.joblib\"\n",
    "    file_path = models / file_name\n",
    "    joblib.dump(dml_b, file_path, compress=3)"
   ]
  },
  {
   "cell_type": "code",
   "execution_count": null,
   "id": "5277f1a5-4752-4d4b-b440-80d16a57308a",
   "metadata": {},
   "outputs": [],
   "source": [
    "# dml.fit(Y.values.ravel(), T.values.ravel(), X=X.values, W=W.values, groups=G.values)\n",
    "# dml.ate(X=X)"
   ]
  },
  {
   "cell_type": "code",
   "execution_count": null,
   "id": "3b88511a-367d-4786-ab15-ad4bb003040e",
   "metadata": {},
   "outputs": [],
   "source": [
    "# dml.ate(X=X)"
   ]
  },
  {
   "cell_type": "code",
   "execution_count": null,
   "id": "833aca88-6414-4e2c-8619-efbd15220da5",
   "metadata": {},
   "outputs": [],
   "source": []
  },
  {
   "cell_type": "code",
   "execution_count": null,
   "id": "b2f7fd50-fdb9-4764-830a-893ee148c8ad",
   "metadata": {},
   "outputs": [],
   "source": []
  }
 ],
 "metadata": {
  "kernelspec": {
   "display_name": "Python 3 (ipykernel)",
   "language": "python",
   "name": "python3"
  },
  "language_info": {
   "codemirror_mode": {
    "name": "ipython",
    "version": 3
   },
   "file_extension": ".py",
   "mimetype": "text/x-python",
   "name": "python",
   "nbconvert_exporter": "python",
   "pygments_lexer": "ipython3",
   "version": "3.11.0"
  }
 },
 "nbformat": 4,
 "nbformat_minor": 5
}
