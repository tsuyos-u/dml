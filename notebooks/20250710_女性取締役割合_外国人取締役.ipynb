{
 "cells": [
  {
   "cell_type": "code",
   "execution_count": 1,
   "id": "c9a47028-7d0b-43ee-8440-8e14548f8488",
   "metadata": {},
   "outputs": [],
   "source": [
    "import joblib\n",
    "from pathlib import Path\n",
    "\n",
    "from econml.dml import LinearDML, DML\n",
    "from econml.inference import BootstrapInference\n",
    "from lightgbm import LGBMRegressor\n",
    "import numpy as np\n",
    "import pandas as pd\n",
    "import tqdm\n",
    "\n",
    "from sklearn.linear_model import Ridge\n",
    "from sklearn.model_selection import GroupKFold\n",
    "from sklearn.base import clone"
   ]
  },
  {
   "cell_type": "code",
   "execution_count": 2,
   "id": "c38fedaa-2d71-42ba-bab6-b5e3e349a7db",
   "metadata": {},
   "outputs": [],
   "source": [
    "models = Path(\"models\") / \"foreign_ownership\"\n",
    "models.mkdir(parents=True, exist_ok=True)\n",
    "\n",
    "data_path = Path(\"../data\")\n",
    "file_name = \"ToAnalysis_Winsorized_2015_2023_With_Profit_Asset.csv\"\n",
    "file_path = data_path / file_name\n",
    "\n",
    "df = pd.read_csv(file_path, parse_dates=['start date'])\n",
    "df.columns = [col.replace(\" \", \"_\").lower() for col in df.columns]\n",
    "df = df.sort_values(by=['ticker', 'start_date'])\n",
    "\n",
    "df[\"log_tobin_q_winsor\"] = np.log(df['tobin_q_winsor'])\n",
    "df[\"year\"] = df.start_date.dt.year\n",
    "df[\"roa\"] = df[\"net_income\"].div(df[\"total_assets\"])"
   ]
  },
  {
   "cell_type": "code",
   "execution_count": 3,
   "id": "612bf67b-7e2c-404f-a21b-909a85f49691",
   "metadata": {},
   "outputs": [],
   "source": [
    "# create dummies\n",
    "year = pd.get_dummies(df['year'], dtype='int', drop_first=True)\n",
    "industry = pd.get_dummies(df['industry_name'], dtype='int')\n",
    "industry = industry.drop(\"その他製品\", axis=1)"
   ]
  },
  {
   "cell_type": "code",
   "execution_count": 4,
   "id": "21f7bfe8-b7d1-4e2c-b0ba-3c468555a5db",
   "metadata": {},
   "outputs": [],
   "source": [
    "Y_cols = ['log_tobin_q_winsor']\n",
    "W_cols = [\n",
    "    'board_size', \n",
    "    'log_firm_age', \n",
    "    'log_sales',\n",
    "    'sales_growth', \n",
    "#     'foreign_ownership', \n",
    "    'managerial_ownership',\n",
    "    'tangible_assets', \n",
    "    'leverage'\n",
    "]\n",
    "X_cols = ['foreign_ownership']\n",
    "T_cols = ['female_director_ratio']\n",
    "G_cols = ['ticker']"
   ]
  },
  {
   "cell_type": "code",
   "execution_count": 5,
   "id": "adbeadc9-cc34-4577-99df-a2e989ca6380",
   "metadata": {},
   "outputs": [],
   "source": [
    "mundlak_W = df.groupby(by='ticker')[W_cols].transform(\"mean\")\n",
    "mundlak_W.columns = [f\"{col}_mean\" for col in mundlak_W.columns]\n",
    "\n",
    "mundlak_T = df.groupby(by='ticker')[T_cols].transform(\"mean\")\n",
    "mundlak_T.columns = [f\"{col}_mean\" for col in mundlak_T.columns]"
   ]
  },
  {
   "cell_type": "code",
   "execution_count": 6,
   "id": "c24772fc-6f03-4a3a-be02-d18d5ae470a5",
   "metadata": {},
   "outputs": [],
   "source": [
    "# コントロール変数\n",
    "W = df[W_cols].join(mundlak_T).join(mundlak_W).join(year)\n",
    "\n",
    "# 説明変数\n",
    "X = df[X_cols].join(industry)\n",
    "\n",
    "# 出力\n",
    "Y = df[Y_cols]\n",
    "\n",
    "# 介入\n",
    "T = df[T_cols]\n",
    "\n",
    "# Groups\n",
    "G = df['ticker']\n",
    "\n",
    "tmp = pd.concat((W, X, Y, T, G), axis=1).dropna(how='any', axis=0)\n",
    "\n",
    "W = W.loc[tmp.index]\n",
    "X = X.loc[tmp.index]\n",
    "Y = Y.loc[tmp.index]\n",
    "T = T.loc[tmp.index]\n",
    "G = G.loc[tmp.index]"
   ]
  },
  {
   "cell_type": "code",
   "execution_count": 7,
   "id": "cdb0cd5c-2e59-4209-a332-ef1a6a216af4",
   "metadata": {},
   "outputs": [],
   "source": [
    "model_y = LGBMRegressor(force_row_wise=True, verbose=-1) # LinearRegression()\n",
    "model_t = LGBMRegressor(force_row_wise=True, verbose=-1) # LinearRegression()\n",
    "dml = LinearDML(\n",
    "    model_y = model_y,\n",
    "    model_t = model_t,\n",
    "    cv = GroupKFold(n_splits=3),   # 同じ企業を foldに跨らせない\n",
    ")"
   ]
  },
  {
   "cell_type": "code",
   "execution_count": 8,
   "id": "067e7e61-fdcd-481d-b382-1086e59b2103",
   "metadata": {},
   "outputs": [
    {
     "name": "stderr",
     "output_type": "stream",
     "text": [
      "100%|████████████████████████████████████████████████████████████████████████████████████████████████████████████████████████| 1000/1000 [55:08<00:00,  3.31s/it]\n"
     ]
    }
   ],
   "source": [
    "seed = 42\n",
    "n_boot = 1000\n",
    "unique_groups = np.unique(G)\n",
    "rng = np.random.RandomState(42)\n",
    "\n",
    "# Cluster Bootstrap\n",
    "ate = list()\n",
    "for b in tqdm.tqdm(range(n_boot)):\n",
    "    sampled_groups = rng.choice(unique_groups, size=len(unique_groups), replace=True)\n",
    "    idx = np.concatenate([np.where(G == g)[0] for g in sampled_groups])\n",
    "\n",
    "    dml_b = DML(\n",
    "        model_y = model_y,\n",
    "        model_t = model_t,    \n",
    "        model_final=Ridge(alpha=1e-4, fit_intercept=False),\n",
    "        cv = GroupKFold(n_splits=3),   # 同じ企業を foldに跨らせない\n",
    "    )    \n",
    "    dml_b.fit(Y.values.ravel()[idx],\n",
    "              T.values.ravel()[idx],\n",
    "              X=X.values[idx],\n",
    "              W=W.values[idx],\n",
    "              groups=G.values[idx])\n",
    "\n",
    "    ate.append(dml_b.ate(X=X))\n",
    "    file_name = f\"{b:02d}.joblib\"\n",
    "    file_path = models / file_name\n",
    "    joblib.dump(dml_b, file_path, compress=3)"
   ]
  },
  {
   "cell_type": "code",
   "execution_count": 15,
   "id": "22eb4692-31b7-4956-b7c0-d88e3aa2a5f4",
   "metadata": {},
   "outputs": [
    {
     "data": {
      "text/plain": [
       "array([-1.36449624,  0.76201373,  1.36396162,  2.914109  ,  0.64288337,\n",
       "        0.10813716,  0.41257682,  0.5551398 ,  1.0733626 , -0.27763497,\n",
       "        0.59052007,  0.60459256, -0.30634295,  0.18588633,  0.04044855,\n",
       "        0.43424189, -1.85469225, -0.12680647,  0.        ,  0.        ,\n",
       "        2.09918411,  2.20444461, -0.17232101, -0.45786567,  0.28768592,\n",
       "        0.11514564,  4.65722767,  0.17387727,  0.87870055,  0.16843044,\n",
       "       -0.13209469, -0.13371888,  1.42796258])"
      ]
     },
     "execution_count": 15,
     "metadata": {},
     "output_type": "execute_result"
    }
   ],
   "source": [
    "# dml_b.coef_"
   ]
  },
  {
   "cell_type": "code",
   "execution_count": null,
   "id": "f76e8026-78d2-4631-b338-1439abc240ca",
   "metadata": {},
   "outputs": [],
   "source": []
  }
 ],
 "metadata": {
  "kernelspec": {
   "display_name": "Python 3 (ipykernel)",
   "language": "python",
   "name": "python3"
  },
  "language_info": {
   "codemirror_mode": {
    "name": "ipython",
    "version": 3
   },
   "file_extension": ".py",
   "mimetype": "text/x-python",
   "name": "python",
   "nbconvert_exporter": "python",
   "pygments_lexer": "ipython3",
   "version": "3.11.0"
  }
 },
 "nbformat": 4,
 "nbformat_minor": 5
}
