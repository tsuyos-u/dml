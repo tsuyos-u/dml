{
 "cells": [
  {
   "cell_type": "code",
   "execution_count": 1,
   "id": "19a0d193-9810-4df7-894c-32dada75f4b9",
   "metadata": {},
   "outputs": [],
   "source": [
    "# Wild Bootstrap"
   ]
  },
  {
   "cell_type": "code",
   "execution_count": 2,
   "id": "0c008b5f-dee3-479e-8dbe-fc48e17949f1",
   "metadata": {},
   "outputs": [],
   "source": [
    "import joblib\n",
    "from pathlib import Path\n",
    "\n",
    "from econml.dml import LinearDML, DML\n",
    "from econml.inference import BootstrapInference\n",
    "from lightgbm import LGBMRegressor, LGBMClassifier\n",
    "import matplotlib.pyplot as plt\n",
    "import numpy as np\n",
    "import pandas as pd\n",
    "import seaborn as sns\n",
    "import tqdm\n",
    "\n",
    "from sklearn.linear_model import RidgeCV, LogisticRegression, LinearRegression\n",
    "from sklearn.model_selection import GroupKFold, StratifiedGroupKFold\n",
    "from sklearn.base import clone"
   ]
  },
  {
   "cell_type": "code",
   "execution_count": 3,
   "id": "67ac51ab-7c15-49fa-94ed-9142cd2cea3b",
   "metadata": {},
   "outputs": [],
   "source": [
    "def sigmoid(x, c, gamma):\n",
    "    denom = 1 + np.exp(-gamma * (x - c))\n",
    "    numer = 1\n",
    "    return numer / denom"
   ]
  },
  {
   "cell_type": "code",
   "execution_count": 4,
   "id": "68538585-7225-429e-adad-95ac115e10cd",
   "metadata": {},
   "outputs": [],
   "source": [
    "class GroupStratifiedKFold:\n",
    "    \"\"\"\n",
    "    StratifiedGroupKFold をラップして、回帰値 y を 0/1 に2値化して層化するユーティリティ。\n",
    "    例: y > 0.5 を 1, それ以外を 0 に丸めて層化したいときなど。\n",
    "    \"\"\"\n",
    "\n",
    "    def __init__(self, n_splits: int = 3, random_state: int = None):\n",
    "        self.sgk = StratifiedGroupKFold(\n",
    "            n_splits=n_splits,\n",
    "            shuffle=True,\n",
    "            random_state=random_state\n",
    "        )\n",
    "\n",
    "    def split(self, X, y, groups):\n",
    "        \"\"\"\n",
    "        Parameters\n",
    "        ----------\n",
    "        X : array-like of shape (n_samples, n_features)\n",
    "        y : array-like of shape (n_samples,)\n",
    "            回帰値でも OK。内部で 0/1 に変換して層化します。\n",
    "        groups : array-like of shape (n_samples,)\n",
    "            グループ ID（例: 企業 ID）\n",
    "\n",
    "        Returns\n",
    "        -------\n",
    "        Generator of (train_idx, test_idx) タプル\n",
    "        \"\"\"\n",
    "        # 0/1 へ 2 値化（しきい値は適宜変更）\n",
    "        y_bin = np.where(y > 0.5, 1, 0)\n",
    "        return self.sgk.split(X, y_bin, groups)"
   ]
  },
  {
   "cell_type": "code",
   "execution_count": 5,
   "id": "71fa03a5-3ce5-41ff-b1db-e2e726f8e537",
   "metadata": {},
   "outputs": [],
   "source": [
    "models = Path(\"models\") / \"soft_threshold\"\n",
    "models.mkdir(parents=True, exist_ok=True)\n",
    "\n",
    "data_path = Path(\"../data\")\n",
    "file_name = \"ToAnalysis_Winsorized_2015_2023_With_Profit_Asset.csv\"\n",
    "file_path = data_path / file_name\n",
    "\n",
    "df = pd.read_csv(file_path, parse_dates=['start date'])\n",
    "df.columns = [col.replace(\" \", \"_\").lower() for col in df.columns]\n",
    "df = df.sort_values(by=['ticker', 'start_date'])\n",
    "\n",
    "df[\"log_tobin_q_winsor\"] = np.log(df['tobin_q_winsor'])\n",
    "df[\"year\"] = df.start_date.dt.year\n",
    "df[\"roa\"] = df[\"net_income\"].div(df[\"total_assets\"])"
   ]
  },
  {
   "cell_type": "code",
   "execution_count": 6,
   "id": "06bf17aa-87d4-4fe7-bef4-fd9788830ff1",
   "metadata": {},
   "outputs": [],
   "source": [
    "c = 0.25\n",
    "gamma = 60\n",
    "models = models / f\"{c:1.2f}\"\n",
    "models.mkdir(parents=True, exist_ok=True)\n",
    "\n",
    "df['female_director_ratio_threshold'] = df['female_director_ratio'].apply(lambda x: sigmoid(x, c, gamma))"
   ]
  },
  {
   "cell_type": "code",
   "execution_count": 7,
   "id": "60d57e56-f9ff-4e56-ad16-00b7f79b3d05",
   "metadata": {},
   "outputs": [],
   "source": [
    "year = pd.get_dummies(df['year'], dtype='int', drop_first=True)\n",
    "industry = pd.get_dummies(df['industry_name'], dtype='int')\n",
    "industry = industry.drop(\"その他製品\", axis=1)"
   ]
  },
  {
   "cell_type": "code",
   "execution_count": 8,
   "id": "24c78951-7ac6-46e4-91c8-3eaa6f7c705e",
   "metadata": {},
   "outputs": [],
   "source": [
    "Y_cols = ['log_tobin_q_winsor']\n",
    "W_cols = [\n",
    "    'board_size', \n",
    "    'log_firm_age', \n",
    "    'log_sales',\n",
    "    'sales_growth', \n",
    "    'tangible_assets', \n",
    "    'leverage',\n",
    "    'foreign_ownership', \n",
    "    'managerial_ownership',    \n",
    "]\n",
    "T_cols = ['female_director_ratio_threshold']\n",
    "G_cols = ['ticker']\n",
    "X_cols = []# ['foreign_ownership', 'managerial_ownership']"
   ]
  },
  {
   "cell_type": "code",
   "execution_count": 9,
   "id": "3e46b46f-bd99-41c2-9a51-57b0753f5fcc",
   "metadata": {},
   "outputs": [],
   "source": [
    "mundlak_W = df.groupby(by='ticker')[W_cols].transform(\"mean\")\n",
    "mundlak_W.columns = [f\"{col}_mean\" for col in mundlak_W.columns]\n",
    "\n",
    "mundlak_T = df.groupby(by='ticker')[T_cols].transform(\"mean\")\n",
    "mundlak_T.columns = [f\"{col}_mean\" for col in mundlak_T.columns]"
   ]
  },
  {
   "cell_type": "code",
   "execution_count": 10,
   "id": "6b2aab0c-bb16-4862-aa55-af8a74d7e442",
   "metadata": {},
   "outputs": [],
   "source": [
    "# コントロール変数\n",
    "W = df[W_cols].join(mundlak_T).join(mundlak_W).join(year).join(industry)\n",
    "\n",
    "# 説明変数\n",
    "X = df[X_cols].join(industry)\n",
    "\n",
    "# 出力\n",
    "Y = df[Y_cols]\n",
    "\n",
    "# 介入\n",
    "T = df[T_cols]\n",
    "\n",
    "# Groups\n",
    "G = df['ticker']\n",
    "\n",
    "tmp = pd.concat((W, X, Y, T, G), axis=1).dropna(how='any', axis=0)\n",
    "\n",
    "W = W.loc[tmp.index]\n",
    "X = X.loc[tmp.index]\n",
    "Y = Y.loc[tmp.index]\n",
    "T = T.loc[tmp.index]\n",
    "G = G.loc[tmp.index]"
   ]
  },
  {
   "cell_type": "code",
   "execution_count": 11,
   "id": "42259ffd-6f3d-4919-a441-a9f08d7157d5",
   "metadata": {},
   "outputs": [],
   "source": [
    "model_y = LGBMRegressor(force_row_wise=True, verbose=-1) # \n",
    "model_t = LGBMRegressor(force_row_wise=True, verbose=-1) # LinearRegression()"
   ]
  },
  {
   "cell_type": "code",
   "execution_count": 12,
   "id": "4780770f-bad3-4ed4-9bea-d47891e9f9ef",
   "metadata": {},
   "outputs": [],
   "source": [
    "dml0 = LinearDML(model_y=model_y, model_t=model_t,\n",
    "                 cv=GroupStratifiedKFold(n_splits=3))\n",
    "dml0.fit(Y.values.ravel(),\n",
    "         T.values.ravel(),\n",
    "         W=W.values, groups=G.values, cache_values=True)\n",
    "\n",
    "y_res, t_res, _, _ = dml0.residuals_\n",
    "y_hat = Y.values.ravel() - y_res\n",
    "t_hat = T.values.ravel() - t_res"
   ]
  },
  {
   "cell_type": "code",
   "execution_count": 13,
   "id": "5755ac9e-3726-4cc1-8361-42b16f23a30b",
   "metadata": {},
   "outputs": [],
   "source": [
    "# sns.scatterplot(x=t_res, y=y_res / y_res.std())"
   ]
  },
  {
   "cell_type": "code",
   "execution_count": 14,
   "id": "8984231d-38ec-47a8-af97-cd236aa47599",
   "metadata": {},
   "outputs": [
    {
     "name": "stderr",
     "output_type": "stream",
     "text": [
      "100%|██████████████████████████████████████████████████████████████████████████████████████████████████████████████████████████| 100/100 [05:27<00:00,  3.28s/it]\n"
     ]
    }
   ],
   "source": [
    "groups_unique = G.unique()\n",
    "rng   = np.random.RandomState(42)\n",
    "\n",
    "n_boot = 100\n",
    "\n",
    "ate = []\n",
    "for b in tqdm.tqdm(range(n_boot)):\n",
    "    v_g = rng.choice([-1, 1], size=len(groups_unique))\n",
    "    v = v_g[np.searchsorted(groups_unique, G)]\n",
    "    y_star = y_hat + y_res * v\n",
    "    t_star = t_hat + t_res * v  # treatment も揺らすなら\n",
    "\n",
    "    dml_b = LinearDML(\n",
    "        model_y=model_y, model_t=model_t, cv=GroupStratifiedKFold(n_splits=3)\n",
    "    )\n",
    "    dml_b.fit(y_star, t_star, W=W.values, groups=G.values)\n",
    "#     dml_b.fit(y_star, t_star, X=W.values, groups=G.values)    \n",
    "    \n",
    "    ate.append(dml_b.ate())\n",
    "    file_name = f\"{b:02d}.joblib\"\n",
    "    file_path = models / file_name\n",
    "    joblib.dump(dml_b, file_path, compress=3)    "
   ]
  },
  {
   "cell_type": "code",
   "execution_count": 15,
   "id": "36ee5667-947e-49ac-9892-c8c689c3f14d",
   "metadata": {},
   "outputs": [],
   "source": [
    "# pd.Series(ate).sort_values().quantile(0.02)"
   ]
  },
  {
   "cell_type": "code",
   "execution_count": 16,
   "id": "d6208d50-a863-47af-8079-82afbf255d4f",
   "metadata": {},
   "outputs": [],
   "source": [
    "# pd.Series(ate)"
   ]
  },
  {
   "cell_type": "code",
   "execution_count": 17,
   "id": "b2d0e131-3686-41db-82f4-d9e893e5feef",
   "metadata": {},
   "outputs": [],
   "source": [
    "# Y, T, X, W = dml0.residuals_"
   ]
  },
  {
   "cell_type": "code",
   "execution_count": null,
   "id": "2499cc87-4694-4293-bcaa-b8b62bcaa7b6",
   "metadata": {},
   "outputs": [],
   "source": []
  },
  {
   "cell_type": "code",
   "execution_count": null,
   "id": "f90278d0-1db7-4d3a-be20-c4bdde5b9952",
   "metadata": {},
   "outputs": [],
   "source": []
  }
 ],
 "metadata": {
  "kernelspec": {
   "display_name": "Python 3 (ipykernel)",
   "language": "python",
   "name": "python3"
  },
  "language_info": {
   "codemirror_mode": {
    "name": "ipython",
    "version": 3
   },
   "file_extension": ".py",
   "mimetype": "text/x-python",
   "name": "python",
   "nbconvert_exporter": "python",
   "pygments_lexer": "ipython3",
   "version": "3.11.0"
  }
 },
 "nbformat": 4,
 "nbformat_minor": 5
}
