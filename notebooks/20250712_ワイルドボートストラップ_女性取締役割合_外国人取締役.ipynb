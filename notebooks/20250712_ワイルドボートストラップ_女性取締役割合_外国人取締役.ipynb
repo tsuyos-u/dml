{
 "cells": [
  {
   "cell_type": "code",
   "execution_count": 1,
   "id": "32f4d91e-a56a-47fe-8af5-07ae12b6b735",
   "metadata": {},
   "outputs": [],
   "source": [
    "import joblib\n",
    "from pathlib import Path\n",
    "\n",
    "from econml.dml import LinearDML, DML\n",
    "from econml.inference import BootstrapInference\n",
    "from lightgbm import LGBMRegressor, LGBMClassifier\n",
    "import matplotlib.pyplot as plt\n",
    "import numpy as np\n",
    "import pandas as pd\n",
    "import seaborn as sns\n",
    "import tqdm\n",
    "\n",
    "from sklearn.linear_model import RidgeCV, LogisticRegression, LinearRegression\n",
    "from sklearn.model_selection import GroupKFold, StratifiedGroupKFold\n",
    "from sklearn.base import clone"
   ]
  },
  {
   "cell_type": "code",
   "execution_count": 28,
   "id": "408d0ea7-672e-44de-91b4-e166073ff34e",
   "metadata": {},
   "outputs": [],
   "source": [
    "models = Path(\"models\") / \"wild_bootstrap\"\n",
    "models.mkdir(parents=True, exist_ok=True)\n",
    "\n",
    "data_path = Path(\"../data\")\n",
    "file_name = \"ToAnalysis_Winsorized_2015_2023_With_Profit_Asset.csv\"\n",
    "file_path = data_path / file_name\n",
    "\n",
    "df = pd.read_csv(file_path, parse_dates=['start date'])\n",
    "df.columns = [col.replace(\" \", \"_\").lower() for col in df.columns]\n",
    "df = df.sort_values(by=['ticker', 'start_date'])\n",
    "\n",
    "df[\"log_tobin_q_winsor\"] = np.log(df['tobin_q_winsor'])\n",
    "df[\"year\"] = df.start_date.dt.year\n",
    "df[\"roa\"] = df[\"net_income\"].div(df[\"total_assets\"])\n",
    "df[\"log_female_director_ratio\"] = np.log(df[\"female_director_ratio\"] + 1e-3)"
   ]
  },
  {
   "cell_type": "code",
   "execution_count": 3,
   "id": "757effe8-8d64-497b-afdc-c7491da0c8fe",
   "metadata": {},
   "outputs": [],
   "source": [
    "year = pd.get_dummies(df['year'], dtype='int', drop_first=True)\n",
    "industry = pd.get_dummies(df['industry_name'], dtype='int')\n",
    "industry = industry.drop(\"その他製品\", axis=1)"
   ]
  },
  {
   "cell_type": "code",
   "execution_count": 29,
   "id": "e3d40ef8-7e56-4ffc-bd89-65bc8c4ed915",
   "metadata": {},
   "outputs": [],
   "source": [
    "Y_cols = ['log_tobin_q_winsor']\n",
    "W_cols = [\n",
    "    'board_size', \n",
    "    'log_firm_age', \n",
    "    'log_sales',\n",
    "    'sales_growth', \n",
    "    'tangible_assets', \n",
    "    'leverage',\n",
    "#     'foreign_ownership', \n",
    "#     'managerial_ownership',    \n",
    "]\n",
    "T_cols = ['log_female_director_ratio']\n",
    "G_cols = ['ticker']\n",
    "X_cols = ['foreign_ownership', 'managerial_ownership']"
   ]
  },
  {
   "cell_type": "code",
   "execution_count": 30,
   "id": "6b9418bf-1f94-450d-94b6-f81bd66da73a",
   "metadata": {},
   "outputs": [],
   "source": [
    "mundlak_W = df.groupby(by='ticker')[W_cols].transform(\"mean\")\n",
    "mundlak_W.columns = [f\"{col}_mean\" for col in mundlak_W.columns]\n",
    "\n",
    "mundlak_T = df.groupby(by='ticker')[T_cols].transform(\"mean\")\n",
    "mundlak_T.columns = [f\"{col}_mean\" for col in mundlak_T.columns]"
   ]
  },
  {
   "cell_type": "code",
   "execution_count": 31,
   "id": "ee257181-39f0-43a9-ae2f-a73ea328a093",
   "metadata": {},
   "outputs": [],
   "source": [
    "# コントロール変数\n",
    "W = df[W_cols].join(mundlak_T).join(mundlak_W).join(year)\n",
    "\n",
    "# 説明変数\n",
    "X = df[X_cols].join(industry)\n",
    "\n",
    "# 出力\n",
    "Y = df[Y_cols]\n",
    "\n",
    "# 介入\n",
    "T = df[T_cols]\n",
    "\n",
    "# Groups\n",
    "G = df['ticker']\n",
    "\n",
    "tmp = pd.concat((W, X, Y, T, G), axis=1).dropna(how='any', axis=0)\n",
    "\n",
    "W = W.loc[tmp.index]\n",
    "X = X.loc[tmp.index]\n",
    "Y = Y.loc[tmp.index]\n",
    "T = T.loc[tmp.index]\n",
    "G = G.loc[tmp.index]"
   ]
  },
  {
   "cell_type": "code",
   "execution_count": 32,
   "id": "709f3d4b-ea09-492e-a23f-328f9308a68c",
   "metadata": {},
   "outputs": [],
   "source": [
    "model_y = LGBMRegressor(force_row_wise=True, verbose=-1) # \n",
    "model_t = LGBMRegressor(force_row_wise=True, verbose=-1) # LinearRegression()"
   ]
  },
  {
   "cell_type": "code",
   "execution_count": 33,
   "id": "6f246563-6bf1-4679-b515-4fcbfd084e14",
   "metadata": {},
   "outputs": [],
   "source": [
    "dml0 = LinearDML(model_y=model_y, model_t=model_t,\n",
    "                 cv=GroupKFold(n_splits=3))\n",
    "dml0.fit(Y.values.ravel(),\n",
    "         T.values.ravel(),\n",
    "         X=X.values, \n",
    "         W=W.values, groups=G.values, cache_values=True)\n",
    "\n",
    "y_res, t_res, _, _ = dml0.residuals_\n",
    "y_hat = Y.values.ravel() - y_res\n",
    "t_hat = T.values.ravel() - t_res"
   ]
  },
  {
   "cell_type": "code",
   "execution_count": 34,
   "id": "a36cc621-723b-4ded-934b-5e2c2c445d51",
   "metadata": {},
   "outputs": [
    {
     "name": "stderr",
     "output_type": "stream",
     "text": [
      "100%|██████████████████████████████████████████████████████████████████████████████████████████████████████████████████████████| 100/100 [05:27<00:00,  3.27s/it]\n"
     ]
    }
   ],
   "source": [
    "groups_unique = G.unique()\n",
    "rng   = np.random.RandomState(42)\n",
    "\n",
    "n_boot = 100\n",
    "ate = []\n",
    "for b in tqdm.tqdm(range(n_boot)):\n",
    "    v_g = rng.choice([-1, 1], size=len(groups_unique))\n",
    "    v = v_g[np.searchsorted(groups_unique, G)]\n",
    "    y_star = y_hat + y_res * v\n",
    "    t_star = t_hat + t_res * v  # treatment も揺らすなら\n",
    "\n",
    "    dml_b = LinearDML(\n",
    "        model_y=model_y, model_t=model_t, cv=GroupKFold(n_splits=3)\n",
    "    )\n",
    "    dml_b.fit(y_star, t_star, X=X.values, W=W.values, groups=G.values)\n",
    "    \n",
    "    ate.append(dml_b.ate(X=X.values))\n",
    "    file_name = f\"{b:02d}.joblib\"\n",
    "    file_path = models / file_name\n",
    "    joblib.dump(dml_b, file_path, compress=3)   "
   ]
  },
  {
   "cell_type": "code",
   "execution_count": 35,
   "id": "5c2cbdfa-93d6-4850-aec4-c20dfd822b86",
   "metadata": {},
   "outputs": [],
   "source": [
    "# within 変換と\n",
    "# between 変換"
   ]
  },
  {
   "cell_type": "code",
   "execution_count": 39,
   "id": "dd9cf425-d8de-44fa-ba7e-f8df2e320fdb",
   "metadata": {},
   "outputs": [],
   "source": [
    "sns.scatterplot(x=t_hat, y )"
   ]
  },
  {
   "cell_type": "code",
   "execution_count": null,
   "id": "4cef6816-82eb-4ccd-8dfe-1372f6aaac31",
   "metadata": {},
   "outputs": [],
   "source": []
  }
 ],
 "metadata": {
  "kernelspec": {
   "display_name": "Python 3 (ipykernel)",
   "language": "python",
   "name": "python3"
  },
  "language_info": {
   "codemirror_mode": {
    "name": "ipython",
    "version": 3
   },
   "file_extension": ".py",
   "mimetype": "text/x-python",
   "name": "python",
   "nbconvert_exporter": "python",
   "pygments_lexer": "ipython3",
   "version": "3.11.0"
  }
 },
 "nbformat": 4,
 "nbformat_minor": 5
}
