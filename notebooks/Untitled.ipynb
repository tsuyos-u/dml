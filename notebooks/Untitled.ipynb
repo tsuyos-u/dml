{
 "cells": [
  {
   "cell_type": "code",
   "execution_count": 1,
   "id": "4e222723-0b80-42a9-855f-80bde6ba66c9",
   "metadata": {},
   "outputs": [],
   "source": [
    "import joblib\n",
    "from pathlib import Path\n",
    "\n",
    "from econml.dml import LinearDML, DML\n",
    "from econml.inference import BootstrapInference\n",
    "from lightgbm import LGBMRegressor\n",
    "import numpy as np\n",
    "import pandas as pd\n",
    "import tqdm\n",
    "\n",
    "from sklearn.linear_model import Ridge, LogisticRegression\n",
    "from sklearn.model_selection import GroupKFold\n",
    "from sklearn.base import clone"
   ]
  },
  {
   "cell_type": "code",
   "execution_count": 2,
   "id": "32841b34-4ad2-4d1e-bfb6-5b1530b2d60f",
   "metadata": {},
   "outputs": [],
   "source": [
    "models = Path(\"models\")\n",
    "models.mkdir(parents=True, exist_ok=True)\n",
    "\n",
    "data_path = Path(\"../data\")\n",
    "file_name = \"ToAnalysis_Winsorized_2015_2023_With_Profit_Asset.csv\"\n",
    "file_path = data_path / file_name\n",
    "\n",
    "df = pd.read_csv(file_path, parse_dates=['start date'])\n",
    "df.columns = [col.replace(\" \", \"_\").lower() for col in df.columns]\n",
    "df = df.sort_values(by=['ticker', 'start_date'])\n",
    "\n",
    "df[\"log_tobin_q_winsor\"] = np.log(df['tobin_q_winsor'])\n",
    "df[\"year\"] = df.start_date.dt.year\n",
    "df[\"roa\"] = df[\"net_income\"].div(df[\"total_assets\"])"
   ]
  },
  {
   "cell_type": "code",
   "execution_count": 3,
   "id": "546bb2c2-ea7c-4862-9934-0842ec2abe46",
   "metadata": {},
   "outputs": [],
   "source": [
    "c = 0.20\n",
    "\n",
    "df['female_director_ratio_threshold'] = df['female_director_ratio'].apply(lambda x: 1 if x >= c else 0)\n",
    "\n",
    "models = models / f\"threshold_{c:1.2f}\"\n",
    "models.mkdir(parents=True, exist_ok=True)"
   ]
  },
  {
   "cell_type": "code",
   "execution_count": 4,
   "id": "077e08d6-45c4-4bf0-9d7d-e74f845d5140",
   "metadata": {},
   "outputs": [],
   "source": [
    "year = pd.get_dummies(df['year'], dtype='int', drop_first=True)\n",
    "industry = pd.get_dummies(df['industry_name'], dtype='int')\n",
    "industry = industry.drop(\"その他製品\", axis=1)"
   ]
  },
  {
   "cell_type": "code",
   "execution_count": 5,
   "id": "587d4b97-d6e7-4370-a3c1-bd2f0c8f5f1e",
   "metadata": {},
   "outputs": [],
   "source": [
    "Y_cols = ['log_tobin_q_winsor']\n",
    "W_cols = [\n",
    "    'board_size', \n",
    "    'log_firm_age', \n",
    "    'log_sales',\n",
    "    'sales_growth', \n",
    "    'foreign_ownership', \n",
    "    'managerial_ownership',\n",
    "    'tangible_assets', \n",
    "    'leverage'\n",
    "]\n",
    "T_cols = ['female_director_ratio']\n",
    "G_cols = ['ticker']"
   ]
  },
  {
   "cell_type": "code",
   "execution_count": 6,
   "id": "b1af78d8-a3bc-40d4-bd9b-c858483f05d1",
   "metadata": {},
   "outputs": [],
   "source": [
    "Y_cols = ['log_tobin_q_winsor']\n",
    "W_cols = [\n",
    "    'board_size', \n",
    "    'log_firm_age', \n",
    "    'log_sales',\n",
    "    'sales_growth', \n",
    "    'foreign_ownership', \n",
    "    'managerial_ownership',\n",
    "    'tangible_assets', \n",
    "    'leverage'\n",
    "]\n",
    "T_cols = ['female_director_ratio_threshold']\n",
    "G_cols = ['ticker']"
   ]
  },
  {
   "cell_type": "code",
   "execution_count": 7,
   "id": "4d37c00d-85ce-4f21-b239-b1cba89ff9f0",
   "metadata": {},
   "outputs": [],
   "source": [
    "mundlak_W = df.groupby(by='ticker')[W_cols].transform(\"mean\")\n",
    "mundlak_W.columns = [f\"{col}_mean\" for col in mundlak_W.columns]\n",
    "\n",
    "mundlak_T = df.groupby(by='ticker')[T_cols].transform(\"mean\")\n",
    "mundlak_T.columns = [f\"{col}_mean\" for col in mundlak_T.columns]"
   ]
  },
  {
   "cell_type": "code",
   "execution_count": 8,
   "id": "c3e341dc-ff25-4ee4-93e8-3528e054e400",
   "metadata": {},
   "outputs": [],
   "source": [
    "# コントロール変数\n",
    "W = df[W_cols].join(mundlak_T).join(mundlak_W).join(year)\n",
    "\n",
    "# 説明変数\n",
    "X = industry\n",
    "\n",
    "# 出力\n",
    "Y = df[Y_cols]\n",
    "\n",
    "# 介入\n",
    "T = df[T_cols]\n",
    "\n",
    "# Groups\n",
    "G = df['ticker']\n",
    "\n",
    "tmp = pd.concat((W, X, Y, T, G), axis=1).dropna(how='any', axis=0)\n",
    "\n",
    "W = W.loc[tmp.index]\n",
    "X = X.loc[tmp.index]\n",
    "Y = Y.loc[tmp.index]\n",
    "T = T.loc[tmp.index]\n",
    "G = G.loc[tmp.index]"
   ]
  },
  {
   "cell_type": "code",
   "execution_count": 9,
   "id": "ecc99266-e0c3-48ee-87ba-e01ee976422d",
   "metadata": {},
   "outputs": [],
   "source": [
    "model_y = LGBMRegressor(force_row_wise=True, verbose=-1) # LinearRegression()\n",
    "# model_t = LGBMRegressor(force_row_wise=True, verbose=-1) # LinearRegression()\n",
    "model_t = LogisticRegression(class_weight=\"balanced\", max_iter=2000)\n",
    "dml = LinearDML(\n",
    "    model_y = model_y,\n",
    "    model_t = model_t,\n",
    "    cv = GroupKFold(n_splits=3),   # 同じ企業を foldに跨らせない\n",
    ")"
   ]
  },
  {
   "cell_type": "code",
   "execution_count": 10,
   "id": "4aa5a091-ac67-4106-a1e3-86ab9b2a37ab",
   "metadata": {},
   "outputs": [
    {
     "name": "stderr",
     "output_type": "stream",
     "text": [
      "100%|██████████████████████████████████████████████████████████████████████████████████████████████████████████████████████| 1000/1000 [1:55:43<00:00,  6.94s/it]\n"
     ]
    }
   ],
   "source": [
    "seed = 42\n",
    "n_boot = 1000\n",
    "unique_groups = np.unique(G)\n",
    "rng = np.random.RandomState(42)\n",
    "\n",
    "# Cluster Bootstrap\n",
    "ate = list()\n",
    "for b in tqdm.tqdm(range(n_boot)):\n",
    "    sampled_groups = rng.choice(unique_groups, size=len(unique_groups), replace=True)\n",
    "    idx = np.concatenate([np.where(G == g)[0] for g in sampled_groups])\n",
    "\n",
    "    dml_b = DML(\n",
    "        model_y = model_y,\n",
    "        model_t = model_t, \n",
    "        model_final=Ridge(alpha=1e-4, fit_intercept=False),\n",
    "        discrete_treatment=True,\n",
    "        cv = GroupKFold(n_splits=3),   # 同じ企業を foldに跨らせない\n",
    "    )    \n",
    "    dml_b.fit(Y.values.ravel()[idx],\n",
    "              T.values.ravel()[idx],\n",
    "              X=X.values[idx],\n",
    "              W=W.values[idx],\n",
    "              groups=G.values[idx])\n",
    "\n",
    "    ate.append(dml_b.ate(X=X))\n",
    "    file_name = f\"{b:02d}.joblib\"\n",
    "    file_path = models / file_name\n",
    "    joblib.dump(dml_b, file_path, compress=3)"
   ]
  },
  {
   "cell_type": "code",
   "execution_count": 16,
   "id": "7c67dedb-d8c2-498c-b2dd-c3ce8332db5b",
   "metadata": {},
   "outputs": [],
   "source": [
    "# pd.Series(ate).quantile(0.025)\n",
    "# pd.Series(ate).plot(kind='hist', bins=25)"
   ]
  },
  {
   "cell_type": "code",
   "execution_count": 14,
   "id": "b7b9bdbd-4308-4e1d-bd33-fb516559348b",
   "metadata": {},
   "outputs": [],
   "source": [
    "# pd.Series(ate).mean()"
   ]
  },
  {
   "cell_type": "code",
   "execution_count": 13,
   "id": "8cfd6614-157a-4732-8f12-45f47362bec6",
   "metadata": {},
   "outputs": [],
   "source": [
    "# np.exp(0.047) - 1"
   ]
  },
  {
   "cell_type": "code",
   "execution_count": 15,
   "id": "d76a0484-b674-4fa3-9d7a-5eeb8f117ae8",
   "metadata": {},
   "outputs": [],
   "source": [
    "# 異質性を考えることができる"
   ]
  },
  {
   "cell_type": "code",
   "execution_count": null,
   "id": "2b882cf9-05dc-4c4c-b331-4612dbc3ce46",
   "metadata": {},
   "outputs": [],
   "source": []
  }
 ],
 "metadata": {
  "kernelspec": {
   "display_name": "Python 3 (ipykernel)",
   "language": "python",
   "name": "python3"
  },
  "language_info": {
   "codemirror_mode": {
    "name": "ipython",
    "version": 3
   },
   "file_extension": ".py",
   "mimetype": "text/x-python",
   "name": "python",
   "nbconvert_exporter": "python",
   "pygments_lexer": "ipython3",
   "version": "3.11.0"
  }
 },
 "nbformat": 4,
 "nbformat_minor": 5
}
