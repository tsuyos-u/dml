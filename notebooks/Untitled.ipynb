{
 "cells": [
  {
   "cell_type": "code",
   "execution_count": 1,
   "id": "1615f1fb-d685-4b9e-8292-cf7af1219c71",
   "metadata": {},
   "outputs": [],
   "source": [
    "# パネル結果集計"
   ]
  },
  {
   "cell_type": "code",
   "execution_count": 2,
   "id": "95b97229-ec0c-4050-b0af-6ac33d6d5a55",
   "metadata": {},
   "outputs": [],
   "source": [
    "from pathlib import Path\n",
    "import joblib\n",
    "import pandas as pd"
   ]
  },
  {
   "cell_type": "code",
   "execution_count": 3,
   "id": "5b3fbf61-23a2-4884-9d63-eb1a0de7ea2f",
   "metadata": {},
   "outputs": [],
   "source": [
    "class GroupStratifiedKFold:\n",
    "    def __init__(self, n_splits: int = 3, random_state: int = None):\n",
    "        self.sgk = StratifiedGroupKFold(\n",
    "            n_splits=n_splits,\n",
    "            shuffle=True,\n",
    "            random_state=random_state\n",
    "        )\n",
    "\n",
    "    def split(self, X, y, groups):\n",
    "        return self.sgk.split(X, y, groups)"
   ]
  },
  {
   "cell_type": "code",
   "execution_count": 4,
   "id": "06c7373a-b20f-4f57-a467-38ebe7326ea8",
   "metadata": {},
   "outputs": [],
   "source": [
    "dir_path = Path('models') / \"simple\" / \"threshold_effect_cat_lag\""
   ]
  },
  {
   "cell_type": "code",
   "execution_count": 5,
   "id": "c7bc512c-47b4-4c73-bdaf-379d8cf2748b",
   "metadata": {},
   "outputs": [],
   "source": [
    "# \"models/simple/female_director_ratio/\"\n",
    "ATE = list()\n",
    "for file_path in sorted(dir_path.glob(\"*\")):\n",
    "    with open(file_path, mode='rb') as f:\n",
    "        m = joblib.load(f)\n",
    "        ATE.append(pd.Series(m.intercept_, index=[0.1, 0.2, 0.3]))\n",
    "\n",
    "ATE = pd.DataFrame(ATE)"
   ]
  },
  {
   "cell_type": "code",
   "execution_count": 17,
   "id": "1e9eac05-3c3e-46b0-8bc1-2e4c2a7e88c1",
   "metadata": {},
   "outputs": [],
   "source": [
    "# res = m.intercept__inference()"
   ]
  },
  {
   "cell_type": "code",
   "execution_count": 20,
   "id": "acf4eb91-81c5-4108-9832-437907988f17",
   "metadata": {},
   "outputs": [
    {
     "data": {
      "text/plain": [
       "array([0.0164424 , 0.0323927 , 0.04757462])"
      ]
     },
     "execution_count": 20,
     "metadata": {},
     "output_type": "execute_result"
    }
   ],
   "source": [
    "# res.stderr"
   ]
  },
  {
   "cell_type": "code",
   "execution_count": null,
   "id": "ee77bcab-8b46-4d7c-83ae-63f71d51ecfd",
   "metadata": {},
   "outputs": [],
   "source": []
  }
 ],
 "metadata": {
  "kernelspec": {
   "display_name": "Python 3 (ipykernel)",
   "language": "python",
   "name": "python3"
  },
  "language_info": {
   "codemirror_mode": {
    "name": "ipython",
    "version": 3
   },
   "file_extension": ".py",
   "mimetype": "text/x-python",
   "name": "python",
   "nbconvert_exporter": "python",
   "pygments_lexer": "ipython3",
   "version": "3.11.0"
  }
 },
 "nbformat": 4,
 "nbformat_minor": 5
}
