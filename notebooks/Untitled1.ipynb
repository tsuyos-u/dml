{
 "cells": [
  {
   "cell_type": "code",
   "execution_count": 1,
   "id": "99ce5ee6-e7dd-4af2-ae36-d185fdbc6db1",
   "metadata": {},
   "outputs": [],
   "source": [
    "import joblib\n",
    "from pathlib import Path\n",
    "\n",
    "from econml.dml import LinearDML, DML\n",
    "from econml.inference import BootstrapInference\n",
    "from lightgbm import LGBMRegressor, LGBMClassifier\n",
    "import numpy as np\n",
    "import pandas as pd\n",
    "import tqdm\n",
    "\n",
    "from sklearn.linear_model import Ridge, LogisticRegression, LinearRegression\n",
    "from sklearn.model_selection import GroupKFold\n",
    "from sklearn.base import clone"
   ]
  },
  {
   "cell_type": "code",
   "execution_count": 2,
   "id": "517a84b7-cc1f-4e3f-a317-4db4ecc3dc7f",
   "metadata": {},
   "outputs": [],
   "source": [
    "def sigmoid(x, c, gamma):\n",
    "    denom = 1 + np.exp(-gamma * (x - c))\n",
    "    numer = 1\n",
    "    return numer / denom"
   ]
  },
  {
   "cell_type": "code",
   "execution_count": 3,
   "id": "5727a1f8-85e9-48a9-9c6a-f34c88fbe38d",
   "metadata": {},
   "outputs": [],
   "source": [
    "models = Path(\"models\")\n",
    "models.mkdir(parents=True, exist_ok=True)\n",
    "\n",
    "data_path = Path(\"../data\")\n",
    "file_name = \"ToAnalysis_Winsorized_2015_2023_With_Profit_Asset.csv\"\n",
    "file_path = data_path / file_name\n",
    "\n",
    "df = pd.read_csv(file_path, parse_dates=['start date'])\n",
    "df.columns = [col.replace(\" \", \"_\").lower() for col in df.columns]\n",
    "df = df.sort_values(by=['ticker', 'start_date'])\n",
    "\n",
    "df[\"log_tobin_q_winsor\"] = np.log(df['tobin_q_winsor'])\n",
    "df[\"year\"] = df.start_date.dt.year\n",
    "df[\"roa\"] = df[\"net_income\"].div(df[\"total_assets\"])"
   ]
  },
  {
   "cell_type": "code",
   "execution_count": 28,
   "id": "4bb7a0ec-8081-49bf-8b97-559efad40739",
   "metadata": {},
   "outputs": [],
   "source": [
    "c = 0.25\n",
    "gamma = 60\n",
    "\n",
    "df['female_director_ratio_threshold'] = df['female_director_ratio'].apply(lambda x: sigmoid(x, c, gamma))\n",
    "# df['female_director_ratio_threshold'] = df['female_director_ratio'].apply(lambda x: 1 if x >= c else 0)\n",
    "\n",
    "# models = models / f\"threshold_{c:1.2f}\"\n",
    "# models.mkdir(parents=True, exist_ok=True)"
   ]
  },
  {
   "cell_type": "code",
   "execution_count": 29,
   "id": "0b9d2802-2d1e-4fd7-ac7a-a7b17460f7a7",
   "metadata": {},
   "outputs": [],
   "source": [
    "year = pd.get_dummies(df['year'], dtype='int', drop_first=True)\n",
    "industry = pd.get_dummies(df['industry_name'], dtype='int')\n",
    "industry = industry.drop(\"その他製品\", axis=1)"
   ]
  },
  {
   "cell_type": "code",
   "execution_count": 41,
   "id": "e5f837c9-464c-4e4e-b243-916d0e7f8397",
   "metadata": {},
   "outputs": [],
   "source": [
    "Y_cols = ['log_tobin_q_winsor']\n",
    "W_cols = [\n",
    "    'board_size', \n",
    "    'log_firm_age', \n",
    "    'log_sales',\n",
    "    'sales_growth', \n",
    "    'foreign_ownership', \n",
    "    'managerial_ownership',\n",
    "    'tangible_assets', \n",
    "    'leverage',\n",
    "#     'roa'\n",
    "#     'ROE'\n",
    "]\n",
    "T_cols = ['female_director_ratio_threshold']\n",
    "G_cols = ['ticker']\n",
    "X_cols = ['foreign_ownership', 'managerial_ownership']"
   ]
  },
  {
   "cell_type": "code",
   "execution_count": 42,
   "id": "95d83cb4-e346-4e85-bf8a-c29d8333e44a",
   "metadata": {},
   "outputs": [],
   "source": [
    "mundlak_W = df.groupby(by='ticker')[W_cols].transform(\"mean\")\n",
    "mundlak_W.columns = [f\"{col}_mean\" for col in mundlak_W.columns]\n",
    "\n",
    "mundlak_T = df.groupby(by='ticker')[T_cols].transform(\"mean\")\n",
    "mundlak_T.columns = [f\"{col}_mean\" for col in mundlak_T.columns]"
   ]
  },
  {
   "cell_type": "code",
   "execution_count": 53,
   "id": "2d118d94-a0ad-4274-8c96-74fba6b1ef43",
   "metadata": {},
   "outputs": [],
   "source": [
    "# コントロール変数\n",
    "W = df[W_cols].join(mundlak_T).join(mundlak_W).join(year).join(industry)\n",
    "\n",
    "# 説明変数\n",
    "X = df[X_cols]# .join(industry)\n",
    "\n",
    "# 出力\n",
    "Y = df[Y_cols]\n",
    "\n",
    "# 介入\n",
    "T = df[T_cols]\n",
    "\n",
    "# Groups\n",
    "G = df['ticker']\n",
    "\n",
    "tmp = pd.concat((W, X, Y, T, G), axis=1).dropna(how='any', axis=0)\n",
    "\n",
    "W = W.loc[tmp.index]\n",
    "X = X.loc[tmp.index]\n",
    "Y = Y.loc[tmp.index]\n",
    "T = T.loc[tmp.index]\n",
    "G = G.loc[tmp.index]"
   ]
  },
  {
   "cell_type": "code",
   "execution_count": 54,
   "id": "2d446efe-96b9-4b57-89c5-f8431bd8880e",
   "metadata": {},
   "outputs": [],
   "source": [
    "model_y = LGBMRegressor(force_row_wise=True, verbose=-1) # \n",
    "# model_y = LinearRegression()\n",
    "model_t = LGBMRegressor(force_row_wise=True, verbose=-1) # LinearRegression()\n",
    "# model_t = LinearRegression()\n",
    "# model_t = LogisticRegression(max_iter=1000, C=10, penalty='l2')\n",
    "# model_t = LGBMClassifier(class_weight='balanced')\n",
    "dml = LinearDML(\n",
    "    model_y = model_y,\n",
    "    model_t = model_t,\n",
    "    cv = GroupKFold(n_splits=3),   # 同じ企業を foldに跨らせない\n",
    "#     discrete_treatment=True\n",
    ")"
   ]
  },
  {
   "cell_type": "code",
   "execution_count": 55,
   "id": "a2ce2b40-dd31-4f25-bfde-ebf1edc9abd1",
   "metadata": {},
   "outputs": [
    {
     "data": {
      "text/plain": [
       "<econml.dml.dml.LinearDML at 0x323f98b50>"
      ]
     },
     "execution_count": 55,
     "metadata": {},
     "output_type": "execute_result"
    }
   ],
   "source": [
    "dml.fit(\n",
    "    Y.values.ravel(),\n",
    "    T.values.ravel(),\n",
    "    X=X.values,\n",
    "    W=W.values,\n",
    "    groups=G.values\n",
    ")"
   ]
  },
  {
   "cell_type": "code",
   "execution_count": 56,
   "id": "0a4d4524-98dd-4d22-babc-20750d334e71",
   "metadata": {},
   "outputs": [
    {
     "data": {
      "text/html": [
       "<table class=\"simpletable\">\n",
       "<caption>Uncertainty of Mean Point Estimate</caption>\n",
       "<tr>\n",
       "  <th>mean_point</th> <th>stderr_mean</th> <th>zstat</th> <th>pvalue</th> <th>ci_mean_lower</th> <th>ci_mean_upper</th>\n",
       "</tr>\n",
       "<tr>\n",
       "     <td>0.122</td>      <td>0.053</td>    <td>2.286</td>  <td>0.022</td>     <td>0.017</td>         <td>0.226</td>    \n",
       "</tr>\n",
       "</table>\n",
       "<table class=\"simpletable\">\n",
       "<caption>Distribution of Point Estimate</caption>\n",
       "<tr>\n",
       "  <th>std_point</th> <th>pct_point_lower</th> <th>pct_point_upper</th>\n",
       "</tr>\n",
       "<tr>\n",
       "    <td>0.045</td>       <td>-0.023</td>           <td>0.178</td>     \n",
       "</tr>\n",
       "</table>\n",
       "<table class=\"simpletable\">\n",
       "<caption>Total Variance of Point Estimate</caption>\n",
       "<tr>\n",
       "  <th>stderr_point</th> <th>ci_point_lower</th> <th>ci_point_upper</th>\n",
       "</tr>\n",
       "<tr>\n",
       "      <td>0.069</td>        <td>-0.105</td>          <td>0.305</td>    \n",
       "</tr>\n",
       "</table>"
      ],
      "text/plain": [
       "<econml.inference._inference.PopulationSummaryResults at 0x323d60050>"
      ]
     },
     "execution_count": 56,
     "metadata": {},
     "output_type": "execute_result"
    }
   ],
   "source": [
    "dml.const_marginal_ate_inference(X=X)"
   ]
  },
  {
   "cell_type": "code",
   "execution_count": 61,
   "id": "2f2c3641-86b7-4e0b-8e8b-e4616a259f9b",
   "metadata": {},
   "outputs": [],
   "source": [
    "# dml.coef_\n",
    "# 0.5\n",
    "# dml.const_marginal_ate(X=X)"
   ]
  },
  {
   "cell_type": "code",
   "execution_count": 58,
   "id": "e264b6a9-1059-4e68-aa1b-2bc6ef88cee2",
   "metadata": {},
   "outputs": [],
   "source": [
    "# (np.exp(0.15 * 0.9) - 1) * 0.1\n",
    "# sigmoid(0.3, 0.25, 50)"
   ]
  },
  {
   "cell_type": "code",
   "execution_count": 50,
   "id": "01fa270b-7846-4191-b185-60bb8e359b1a",
   "metadata": {},
   "outputs": [],
   "source": [
    "# pd.Series(dml.coef_)"
   ]
  },
  {
   "cell_type": "code",
   "execution_count": 60,
   "id": "8e1ff889-e744-4b9c-ba62-d93743dbcc12",
   "metadata": {},
   "outputs": [],
   "source": [
    "# y = sigmoid(np.linspace(0, 0.5, 100), 0.25, 70)"
   ]
  },
  {
   "cell_type": "code",
   "execution_count": 59,
   "id": "274d1fbc-2603-4382-aa38-37a91f704fbf",
   "metadata": {},
   "outputs": [],
   "source": [
    "# import matplotlib.pyplot as plt\n",
    "# plt.plot(np.linspace(0, 0.5, 100), y)"
   ]
  },
  {
   "cell_type": "code",
   "execution_count": null,
   "id": "5454a5ab-41e4-43ca-a04b-2465a562393b",
   "metadata": {},
   "outputs": [],
   "source": []
  }
 ],
 "metadata": {
  "kernelspec": {
   "display_name": "Python 3 (ipykernel)",
   "language": "python",
   "name": "python3"
  },
  "language_info": {
   "codemirror_mode": {
    "name": "ipython",
    "version": 3
   },
   "file_extension": ".py",
   "mimetype": "text/x-python",
   "name": "python",
   "nbconvert_exporter": "python",
   "pygments_lexer": "ipython3",
   "version": "3.11.0"
  }
 },
 "nbformat": 4,
 "nbformat_minor": 5
}
