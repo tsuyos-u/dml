{
 "cells": [
  {
   "cell_type": "code",
   "execution_count": 1,
   "id": "401e8831-f67a-4dd9-95c8-c10da10a44a8",
   "metadata": {},
   "outputs": [],
   "source": [
    "import joblib\n",
    "from pathlib import Path\n",
    "\n",
    "from econml.dml import LinearDML, DML\n",
    "from econml.inference import BootstrapInference\n",
    "from lightgbm import LGBMRegressor, LGBMClassifier\n",
    "import numpy as np\n",
    "import pandas as pd\n",
    "import tqdm\n",
    "\n",
    "from sklearn.linear_model import RidgeCV, LogisticRegression, LinearRegression\n",
    "from sklearn.model_selection import GroupKFold\n",
    "from sklearn.base import clone"
   ]
  },
  {
   "cell_type": "code",
   "execution_count": 2,
   "id": "b29d1510-2b09-41bb-ac5c-4896ae5c7cf9",
   "metadata": {},
   "outputs": [],
   "source": [
    "def sigmoid(x, c, gamma):\n",
    "    denom = 1 + np.exp(-gamma * (x - c))\n",
    "    numer = 1\n",
    "    return numer / denom"
   ]
  },
  {
   "cell_type": "code",
   "execution_count": 3,
   "id": "47f4e315-f3ac-4b62-8647-94fd01772f06",
   "metadata": {},
   "outputs": [],
   "source": [
    "models = Path(\"models\") / \"soft_threshold\"\n",
    "models.mkdir(parents=True, exist_ok=True)\n",
    "\n",
    "data_path = Path(\"../data\")\n",
    "file_name = \"ToAnalysis_Winsorized_2015_2023_With_Profit_Asset.csv\"\n",
    "file_path = data_path / file_name\n",
    "\n",
    "df = pd.read_csv(file_path, parse_dates=['start date'])\n",
    "df.columns = [col.replace(\" \", \"_\").lower() for col in df.columns]\n",
    "df = df.sort_values(by=['ticker', 'start_date'])\n",
    "\n",
    "df[\"log_tobin_q_winsor\"] = np.log(df['tobin_q_winsor'])\n",
    "df[\"year\"] = df.start_date.dt.year\n",
    "df[\"roa\"] = df[\"net_income\"].div(df[\"total_assets\"])"
   ]
  },
  {
   "cell_type": "code",
   "execution_count": 4,
   "id": "41ad0020-c072-44ab-9d8c-e58ee9719c03",
   "metadata": {},
   "outputs": [],
   "source": [
    "c = 0.05\n",
    "gamma = 60\n",
    "models = models / f\"{c:1.2f}\"\n",
    "models.mkdir(parents=True, exist_ok=True)\n",
    "\n",
    "df['female_director_ratio_threshold'] = df['female_director_ratio'].apply(lambda x: sigmoid(x, c, gamma))"
   ]
  },
  {
   "cell_type": "code",
   "execution_count": 5,
   "id": "70a65ff3-b43e-4048-8223-2c94d4fc22f1",
   "metadata": {},
   "outputs": [],
   "source": [
    "year = pd.get_dummies(df['year'], dtype='int', drop_first=True)\n",
    "industry = pd.get_dummies(df['industry_name'], dtype='int')\n",
    "industry = industry.drop(\"その他製品\", axis=1)"
   ]
  },
  {
   "cell_type": "code",
   "execution_count": 6,
   "id": "9c27f37e-09d1-43b9-bc65-cecc616982ce",
   "metadata": {},
   "outputs": [],
   "source": [
    "Y_cols = ['log_tobin_q_winsor']\n",
    "W_cols = [\n",
    "    'board_size', \n",
    "    'log_firm_age', \n",
    "    'log_sales',\n",
    "    'sales_growth', \n",
    "#     'foreign_ownership', \n",
    "#     'managerial_ownership',\n",
    "    'tangible_assets', \n",
    "    'leverage',\n",
    "]\n",
    "T_cols = ['female_director_ratio_threshold']\n",
    "G_cols = ['ticker']\n",
    "X_cols = ['foreign_ownership', 'managerial_ownership']"
   ]
  },
  {
   "cell_type": "code",
   "execution_count": 7,
   "id": "70f4a5ee-067d-4b0e-9b12-e036c1e43213",
   "metadata": {},
   "outputs": [],
   "source": [
    "mundlak_W = df.groupby(by='ticker')[W_cols].transform(\"mean\")\n",
    "mundlak_W.columns = [f\"{col}_mean\" for col in mundlak_W.columns]\n",
    "\n",
    "mundlak_T = df.groupby(by='ticker')[T_cols].transform(\"mean\")\n",
    "mundlak_T.columns = [f\"{col}_mean\" for col in mundlak_T.columns]"
   ]
  },
  {
   "cell_type": "code",
   "execution_count": 8,
   "id": "a36c656e-31f1-4c8d-b4ea-fb27309de044",
   "metadata": {},
   "outputs": [],
   "source": [
    "# コントロール変数\n",
    "W = df[W_cols].join(mundlak_T).join(mundlak_W).join(year).join(industry)\n",
    "\n",
    "# 説明変数\n",
    "X = df[X_cols].join(industry)\n",
    "\n",
    "# 出力\n",
    "Y = df[Y_cols]\n",
    "\n",
    "# 介入\n",
    "T = df[T_cols]\n",
    "\n",
    "# Groups\n",
    "G = df['ticker']\n",
    "\n",
    "tmp = pd.concat((W, X, Y, T, G), axis=1).dropna(how='any', axis=0)\n",
    "\n",
    "W = W.loc[tmp.index]\n",
    "X = X.loc[tmp.index]\n",
    "Y = Y.loc[tmp.index]\n",
    "T = T.loc[tmp.index]\n",
    "G = G.loc[tmp.index]"
   ]
  },
  {
   "cell_type": "code",
   "execution_count": 9,
   "id": "dc07f9d1-73ff-41a5-9474-16c5e854faa4",
   "metadata": {},
   "outputs": [],
   "source": [
    "model_y = LGBMRegressor(force_row_wise=True, verbose=-1) # \n",
    "model_t = LGBMRegressor(force_row_wise=True, verbose=-1) # LinearRegression()"
   ]
  },
  {
   "cell_type": "code",
   "execution_count": 10,
   "id": "dbba1b34-a8a4-41d0-9986-6620d5212d68",
   "metadata": {},
   "outputs": [
    {
     "name": "stderr",
     "output_type": "stream",
     "text": [
      "100%|████████████████████████████████████████████████████████████████████████████████████████████████████████████████████████| 1000/1000 [54:29<00:00,  3.27s/it]\n"
     ]
    }
   ],
   "source": [
    "seed = 42\n",
    "n_boot = 1000\n",
    "unique_groups = np.unique(G)\n",
    "rng = np.random.RandomState(42)\n",
    "\n",
    "# Cluster Bootstrap\n",
    "ate = list()\n",
    "for b in tqdm.tqdm(range(n_boot)):\n",
    "    sampled_groups = rng.choice(unique_groups, size=len(unique_groups), replace=True)\n",
    "    idx = np.concatenate([np.where(G == g)[0] for g in sampled_groups])\n",
    "\n",
    "    model_final = RidgeCV(alphas=[1e-4, 1e-3, 1e-2, 1e-1, 1], fit_intercept=False)    \n",
    "    dml_b = DML(\n",
    "        model_y = model_y,\n",
    "        model_t = model_t, \n",
    "        model_final=model_final,\n",
    "        cv = GroupKFold(n_splits=3),   # 同じ企業を foldに跨らせない\n",
    "    )    \n",
    "    dml_b.fit(Y.values.ravel()[idx],\n",
    "              T.values.ravel()[idx],\n",
    "              X=X.values[idx],\n",
    "              W=W.values[idx],\n",
    "              groups=G.values[idx])\n",
    "\n",
    "    ate.append(dml_b.ate(X=X))\n",
    "    file_name = f\"{b:02d}.joblib\"\n",
    "    file_path = models / file_name\n",
    "    joblib.dump(dml_b, file_path, compress=3)"
   ]
  },
  {
   "cell_type": "code",
   "execution_count": null,
   "id": "c8bb3896-4eec-4039-b08a-fa8a9b23cac6",
   "metadata": {},
   "outputs": [],
   "source": [
    "# Cluster Wild Bootstrap"
   ]
  },
  {
   "cell_type": "code",
   "execution_count": 13,
   "id": "1eff0dc9-599d-451c-a72c-9a35ddb0ec08",
   "metadata": {},
   "outputs": [],
   "source": [
    "# pd.Series(ate).plot(kind='hist')"
   ]
  },
  {
   "cell_type": "code",
   "execution_count": null,
   "id": "e14fe178-72a2-4dd5-bb2d-40d67d0565ae",
   "metadata": {},
   "outputs": [],
   "source": []
  }
 ],
 "metadata": {
  "kernelspec": {
   "display_name": "Python 3 (ipykernel)",
   "language": "python",
   "name": "python3"
  },
  "language_info": {
   "codemirror_mode": {
    "name": "ipython",
    "version": 3
   },
   "file_extension": ".py",
   "mimetype": "text/x-python",
   "name": "python",
   "nbconvert_exporter": "python",
   "pygments_lexer": "ipython3",
   "version": "3.11.0"
  }
 },
 "nbformat": 4,
 "nbformat_minor": 5
}
