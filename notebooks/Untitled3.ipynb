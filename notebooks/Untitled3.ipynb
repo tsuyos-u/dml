{
 "cells": [
  {
   "cell_type": "code",
   "execution_count": 1,
   "id": "9af87457-7c22-4d0a-aab5-d2976acda887",
   "metadata": {},
   "outputs": [],
   "source": [
    "import json\n",
    "import joblib\n",
    "from pathlib import Path\n",
    "\n",
    "from econml.dml import LinearDML, DML\n",
    "from econml.inference import BootstrapInference\n",
    "from lightgbm import LGBMRegressor\n",
    "import numpy as np\n",
    "import pandas as pd\n",
    "import tqdm\n",
    "\n",
    "from sklearn.linear_model import RidgeCV\n",
    "from sklearn.model_selection import GroupKFold\n",
    "\n",
    "import seaborn as sns"
   ]
  },
  {
   "cell_type": "code",
   "execution_count": 2,
   "id": "078572d4-6b2a-4ed0-940d-cccaf3fca6cd",
   "metadata": {},
   "outputs": [],
   "source": [
    "models = Path(\"models\") / \"foreign_ownership\"\n",
    "models.mkdir(parents=True, exist_ok=True)\n",
    "\n",
    "data_path = Path(\"../data\")\n",
    "file_name = \"ToAnalysis_Winsorized_2015_2023_With_Profit_Asset.csv\"\n",
    "file_path = data_path / file_name\n",
    "\n",
    "df = pd.read_csv(file_path, parse_dates=['start date'])\n",
    "df.columns = [col.replace(\" \", \"_\").lower() for col in df.columns]\n",
    "df = df.sort_values(by=['ticker', 'start_date'])\n",
    "\n",
    "df[\"log_tobin_q_winsor\"] = np.log(df['tobin_q_winsor'])\n",
    "df[\"year\"] = df.start_date.dt.year\n",
    "df[\"roa\"] = df[\"net_income\"].div(df[\"total_assets\"])"
   ]
  },
  {
   "cell_type": "code",
   "execution_count": 3,
   "id": "06ef2a5f-0b94-4901-9bbf-b5eb3ed29a3f",
   "metadata": {},
   "outputs": [],
   "source": [
    "# sns.pairplot(data=df.select_dtypes(float))"
   ]
  },
  {
   "cell_type": "code",
   "execution_count": 4,
   "id": "bae6d1e7-b5f8-4a60-be12-3d746e2a8c93",
   "metadata": {},
   "outputs": [],
   "source": [
    "# df"
   ]
  },
  {
   "cell_type": "code",
   "execution_count": 5,
   "id": "7e21f186-9d52-4d89-b11b-2e01438790dd",
   "metadata": {},
   "outputs": [],
   "source": [
    "year = pd.get_dummies(df['year'], dtype='int')\n",
    "year = year.drop(2015, axis=1)\n",
    "industry = pd.get_dummies(df['industry_name'], dtype='int')\n",
    "industry = industry.drop(\"その他製品\", axis=1)"
   ]
  },
  {
   "cell_type": "code",
   "execution_count": 6,
   "id": "59f4add7-ef31-4af7-ac1e-1a160546287a",
   "metadata": {},
   "outputs": [],
   "source": [
    "Y_cols = ['log_tobin_q_winsor']\n",
    "W_cols = [\n",
    "    'board_size', \n",
    "    'log_firm_age', \n",
    "    'log_sales',\n",
    "    'sales_growth', \n",
    "    'foreign_ownership', \n",
    "    'managerial_ownership',\n",
    "    'tangible_assets', \n",
    "    'leverage',\n",
    "    'roa'\n",
    "]\n",
    "X_cols = []\n",
    "# T_cols = ['female_director_ratio']\n",
    "T_cols = ['female_director']\n",
    "G_cols = ['ticker']"
   ]
  },
  {
   "cell_type": "code",
   "execution_count": 7,
   "id": "7919c4f7-fbc2-4967-8057-9f232a380591",
   "metadata": {},
   "outputs": [],
   "source": [
    "mundlak_W = df.groupby(by='ticker')[W_cols].transform(\"mean\")\n",
    "mundlak_W.columns = [f\"{col}_mean\" for col in mundlak_W.columns]\n",
    "\n",
    "mundlak_T = df.groupby(by='ticker')[T_cols].transform(\"mean\")\n",
    "mundlak_T.columns = [f\"{col}_mean\" for col in mundlak_T.columns]"
   ]
  },
  {
   "cell_type": "code",
   "execution_count": 8,
   "id": "edc07a9e-d4c9-44ce-991d-1d18a2147cf9",
   "metadata": {},
   "outputs": [],
   "source": [
    "# コントロール変数\n",
    "W = df[W_cols]\n",
    "# W = (W - W.mean()) / W.std()\n",
    "W = W.join(mundlak_T).join(mundlak_W)\n",
    "W = W.join(year).join(industry)\n",
    "\n",
    "# 説明変数\n",
    "X = df[X_cols]\n",
    "\n",
    "# 出力\n",
    "Y = df[Y_cols]\n",
    "\n",
    "# 介入\n",
    "T = df[T_cols]\n",
    "\n",
    "# Groups\n",
    "G = df['ticker']\n",
    "\n",
    "tmp = pd.concat((W, X, Y, T, G), axis=1).dropna(how='any', axis=0)\n",
    "\n",
    "W = W.loc[tmp.index]\n",
    "X = X.loc[tmp.index]\n",
    "Y = Y.loc[tmp.index]\n",
    "T = T.loc[tmp.index]\n",
    "G = G.loc[tmp.index]"
   ]
  },
  {
   "cell_type": "code",
   "execution_count": 9,
   "id": "4d5ec4de-d00d-4b66-a7e4-a7fe4ff2c8eb",
   "metadata": {},
   "outputs": [],
   "source": [
    "# LinearModels\n",
    "# with open(\"best_params.json\", mode='r') as f:\n",
    "#     best_params = json.load(f)"
   ]
  },
  {
   "cell_type": "code",
   "execution_count": 10,
   "id": "404a54de-22ed-4e6e-bb00-8099f1cfb765",
   "metadata": {},
   "outputs": [],
   "source": [
    "# with open(\"best_params_y.json\", mode='w') as f:\n",
    "#     json.dump(best_params, f) "
   ]
  },
  {
   "cell_type": "code",
   "execution_count": 11,
   "id": "a01266f6-9a58-40b0-bdb8-2f995793ab26",
   "metadata": {},
   "outputs": [],
   "source": [
    "with open(\"best_params_y.json\", mode='r') as f:\n",
    "    best_params = json.load(f)\n",
    "\n",
    "model_y = LGBMRegressor(force_row_wise=True, verbose=-1, **best_params) # \n",
    "\n",
    "with open(\"best_params_t.json\", mode='r') as f:\n",
    "    best_params = json.load(f)\n",
    "model_t = LGBMRegressor(force_row_wise=True, verbose=-1, **best_params) # LinearRegression()"
   ]
  },
  {
   "cell_type": "code",
   "execution_count": 12,
   "id": "9f7432b3-1995-431c-9075-1c658bf22587",
   "metadata": {},
   "outputs": [],
   "source": [
    "dml0 = LinearDML(model_y=model_y, model_t=model_t,\n",
    "                 cv=GroupKFold(n_splits=3))\n",
    "dml0.fit(\n",
    "    Y.values.ravel(),\n",
    "    T.values.ravel(),\n",
    "    W=W.values, \n",
    "    groups=G.values, \n",
    "    cache_values=True\n",
    ")\n",
    "\n",
    "y_res, t_res, _, _ = dml0.residuals_\n",
    "y_hat = Y.values.ravel() - y_res\n",
    "t_hat = T.values.ravel() - t_res"
   ]
  },
  {
   "cell_type": "code",
   "execution_count": 22,
   "id": "443a7fc3-52db-4c34-a523-36fc185236ba",
   "metadata": {},
   "outputs": [],
   "source": [
    "# year\n",
    "# panel OLS"
   ]
  },
  {
   "cell_type": "code",
   "execution_count": 20,
   "id": "55c19338-7e77-4f8a-b42f-15c6a05b2cb3",
   "metadata": {},
   "outputs": [],
   "source": [
    "# (dml0.ate() * 3)"
   ]
  },
  {
   "cell_type": "code",
   "execution_count": 14,
   "id": "7c92f8e8-2b38-4d1e-beb8-2210699b4148",
   "metadata": {},
   "outputs": [],
   "source": [
    "# cv = GroupKFold(n_splits=5)"
   ]
  },
  {
   "cell_type": "code",
   "execution_count": 24,
   "id": "405fdb9a-ecbd-44d1-b1d3-4fd20269012e",
   "metadata": {},
   "outputs": [],
   "source": [
    "# from sklearn.metrics import root_mean_squared_error"
   ]
  },
  {
   "cell_type": "code",
   "execution_count": 16,
   "id": "8ef7f816-9eaf-4bc3-9c64-77ff78680293",
   "metadata": {},
   "outputs": [],
   "source": [
    "# Y = T"
   ]
  },
  {
   "cell_type": "code",
   "execution_count": 23,
   "id": "92305b21-7e5f-461b-a44c-12f8923a5da3",
   "metadata": {},
   "outputs": [
    {
     "data": {
      "text/plain": [
       "'\\nmse = []\\nfor train, test in cv.split(Y, W, G):\\n    train_Y = Y.loc[train]\\n    train_W = W.loc[train]\\n    train_G = G.loc[train]\\n\\n    model = LGBMRegressor(force_row_wise=True, verbose=-1)\\n    model.fit(train_W.values, train_Y.values)\\n    pred_Y = model.predict(W.loc[test].values)\\n    mse.append(root_mean_squared_error(Y.loc[test], pred_Y))\\n\\nmse = pd.Series(mse)\\n'"
      ]
     },
     "execution_count": 23,
     "metadata": {},
     "output_type": "execute_result"
    }
   ],
   "source": [
    "\"\"\"\n",
    "mse = []\n",
    "for train, test in cv.split(Y, W, G):\n",
    "    train_Y = Y.loc[train]\n",
    "    train_W = W.loc[train]\n",
    "    train_G = G.loc[train]\n",
    "\n",
    "    model = LGBMRegressor(force_row_wise=True, verbose=-1)\n",
    "    model.fit(train_W.values, train_Y.values)\n",
    "    pred_Y = model.predict(W.loc[test].values)\n",
    "    mse.append(root_mean_squared_error(Y.loc[test], pred_Y))\n",
    "\n",
    "mse = pd.Series(mse)\n",
    "\"\"\""
   ]
  },
  {
   "cell_type": "code",
   "execution_count": null,
   "id": "ad5d6ec1-e488-4641-9458-8dddba2df945",
   "metadata": {},
   "outputs": [],
   "source": [
    "# mse.mean()\n",
    "# def params(X, Y, G, **params):\n",
    "#     cv = GroupKFold(n_splits=5)    "
   ]
  },
  {
   "cell_type": "code",
   "execution_count": null,
   "id": "6e210530-c1a2-49b0-abbf-51a662e39ca1",
   "metadata": {},
   "outputs": [],
   "source": [
    "# def eval(X, Y, G, **params):  "
   ]
  },
  {
   "cell_type": "code",
   "execution_count": null,
   "id": "d83c9f5b-5538-4f9e-8fb2-88ae2fe5640e",
   "metadata": {},
   "outputs": [],
   "source": [
    "# industry"
   ]
  },
  {
   "cell_type": "code",
   "execution_count": null,
   "id": "ffe30030-2f4b-442a-971a-100a8a0a70fa",
   "metadata": {},
   "outputs": [],
   "source": [
    "dml0.ate()\n"
   ]
  },
  {
   "cell_type": "raw",
   "id": "38b3fb98-5cfe-49cb-9b7e-874d00fb350b",
   "metadata": {},
   "source": [
    "import optuna\n",
    "# from optuna_integration.sklearn import SklearnPruningCallback\n",
    "# from optuna.integration.sklearn import SklearnPruningCallback\n",
    "from optuna.samplers import TPESampler\n",
    "\n",
    "from lightgbm import LGBMRegressor\n",
    "from sklearn.metrics import mean_squared_error\n",
    "import numpy as np\n",
    "import pandas as pd\n",
    "\n",
    "# --- 評価指標 ---\n",
    "def rmse(y_true, y_pred):\n",
    "    return mean_squared_error(y_true, y_pred, squared=False)\n",
    "\n",
    "# --- Optuna の目的関数 ---\n",
    "def objective(trial):\n",
    "    # ハイパーパラメータ空間の定義\n",
    "    params = {\n",
    "        \"learning_rate\": trial.suggest_float(\"learning_rate\", 1e-3, 0.3, log=True),\n",
    "        \"n_estimators\": trial.suggest_int(\"n_estimators\", 200, 2000, step=200),\n",
    "        \"num_leaves\": trial.suggest_int(\"num_leaves\", 8, 1024, log=True),\n",
    "        \"max_depth\": trial.suggest_int(\"max_depth\", 3, 16),\n",
    "        \"min_child_samples\": trial.suggest_int(\"min_child_samples\", 5, 100),\n",
    "        \"subsample\": trial.suggest_float(\"subsample\", 0.5, 1.0),\n",
    "        \"colsample_bytree\": trial.suggest_float(\"colsample_bytree\", 0.5, 1.0),\n",
    "        \"reg_alpha\": trial.suggest_float(\"reg_alpha\", 1e-8, 10.0, log=True),\n",
    "        \"reg_lambda\": trial.suggest_float(\"reg_lambda\", 1e-8, 10.0, log=True),\n",
    "        \"random_state\": 42,\n",
    "        \"force_row_wise\": True,\n",
    "        \"verbose\": -1,\n",
    "    }\n",
    "\n",
    "    model = LGBMRegressor(**params)\n",
    "\n",
    "    # グループ付きクロスバリデーション\n",
    "    fold_rmse = []\n",
    "    for train_idx, test_idx in cv.split(Y, W, G):\n",
    "        X_train = W.iloc[train_idx]\n",
    "        y_train = Y.iloc[train_idx]\n",
    "        X_valid = W.iloc[test_idx]\n",
    "        y_valid = Y.iloc[test_idx]\n",
    "\n",
    "        # early stopping＋Optuna プルーナー\n",
    "#        pruning_cb = SklearnPruningCallback(trial, \"l2\")  # LightGBM は \"l2\"=RMSE\n",
    "        model.fit(\n",
    "            X_train.values,\n",
    "            y_train.values,\n",
    "            eval_set=[(X_valid.values, y_valid.values)],\n",
    "            eval_metric=\"rmse\",\n",
    "#            callbacks=[pruning_cb],\n",
    "#            early_stopping_rounds=50,\n",
    "        )\n",
    "\n",
    "        y_pred = model.predict(X_valid.values)\n",
    "        fold_rmse.append(rmse(y_valid.values, y_pred))\n",
    "\n",
    "    # 目的関数値（平均 RMSE）\n",
    "    return np.mean(fold_rmse)\n",
    "\n",
    "# --- Optuna Study の作成と実行 ---\n",
    "study = optuna.create_study(\n",
    "    direction=\"minimize\",\n",
    "    sampler=TPESampler(seed=42),  # 再現性確保\n",
    ")\n",
    "study.optimize(objective, n_trials=100, timeout=None, show_progress_bar=True)\n",
    "\n",
    "print(\"Best RMSE:\", study.best_value)\n",
    "print(\"Best params:\")\n",
    "for k, v in study.best_params.items():\n",
    "    print(f\"  {k}: {v}\")\n",
    "\n",
    "# --- ベストパラメータで全データ学習 ---\n",
    "best_model = LGBMRegressor(**study.best_params, force_row_wise=True, verbose=-1)\n",
    "best_model.fit(W.values, Y.values)\n"
   ]
  },
  {
   "cell_type": "code",
   "execution_count": null,
   "id": "08fbd8a0-2f8d-43fb-acee-8a4594e24cb1",
   "metadata": {},
   "outputs": [],
   "source": [
    "import json\n",
    "with open(\"best_params_t.json\", mode='w') as f:\n",
    "    json.dump(study.best_params, f)"
   ]
  },
  {
   "cell_type": "code",
   "execution_count": null,
   "id": "4aef2c90-a5e8-4acd-935e-754fa3561784",
   "metadata": {},
   "outputs": [],
   "source": [
    "# Robust テスト"
   ]
  },
  {
   "cell_type": "code",
   "execution_count": null,
   "id": "0b74e282-732e-4bf9-8a9d-e1a6557c30cf",
   "metadata": {},
   "outputs": [],
   "source": []
  }
 ],
 "metadata": {
  "kernelspec": {
   "display_name": "Python 3 (ipykernel)",
   "language": "python",
   "name": "python3"
  },
  "language_info": {
   "codemirror_mode": {
    "name": "ipython",
    "version": 3
   },
   "file_extension": ".py",
   "mimetype": "text/x-python",
   "name": "python",
   "nbconvert_exporter": "python",
   "pygments_lexer": "ipython3",
   "version": "3.11.0"
  }
 },
 "nbformat": 4,
 "nbformat_minor": 5
}
