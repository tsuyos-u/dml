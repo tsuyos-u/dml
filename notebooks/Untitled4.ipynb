{
 "cells": [
  {
   "cell_type": "code",
   "execution_count": 1,
   "id": "ecfeed66-6303-4ae4-995b-ed9b2806962b",
   "metadata": {},
   "outputs": [],
   "source": [
    "import json\n",
    "import joblib\n",
    "from pathlib import Path\n",
    "\n",
    "from econml.dml import LinearDML, DML\n",
    "from lightgbm import LGBMRegressor, LGBMClassifier\n",
    "import matplotlib.pyplot as plt\n",
    "import numpy as np\n",
    "import pandas as pd\n",
    "import seaborn as sns\n",
    "import tqdm\n",
    "\n",
    "from sklearn.linear_model import RidgeCV, LogisticRegression, LinearRegression\n",
    "from sklearn.model_selection import GroupKFold, StratifiedGroupKFold\n",
    "from sklearn.base import clone"
   ]
  },
  {
   "cell_type": "code",
   "execution_count": 2,
   "id": "585329c8-04a4-4990-9773-b928a6b8a37d",
   "metadata": {},
   "outputs": [],
   "source": [
    "models = Path(\"models\") / \"simple\" / \"female_director_ratio_lag_01\"\n",
    "models.mkdir(parents=True, exist_ok=True)\n",
    "\n",
    "data_path = Path(\"../data\")\n",
    "file_name = \"ToAnalysis_Winsorized_2015_2023_With_Profit_Asset.csv\"\n",
    "file_path = data_path / file_name\n",
    "\n",
    "df = pd.read_csv(file_path, parse_dates=['start date'])\n",
    "df.columns = [col.replace(\" \", \"_\").lower() for col in df.columns]\n",
    "df = df.sort_values(by=['ticker', 'start_date'])\n",
    "\n",
    "df[\"log_tobin_q_winsor\"] = np.log(df['tobin_q_winsor'])\n",
    "df[\"year\"] = df.start_date.dt.year\n",
    "df[\"roa\"] = df[\"net_income\"].div(df[\"total_assets\"])\n",
    "df[\"log_total_assets\"] = np.log(df['total_assets'])"
   ]
  },
  {
   "cell_type": "code",
   "execution_count": 3,
   "id": "4fd835d6-6f4e-4d3f-ae9a-a76d304cf816",
   "metadata": {},
   "outputs": [],
   "source": [
    "df = df.assign(lag_log_tobin_q_winsor=df.groupby(by=['ticker']).log_tobin_q_winsor.shift(-1))"
   ]
  },
  {
   "cell_type": "code",
   "execution_count": 42,
   "id": "8aba82d1-9b0d-4af6-939e-ff7b1981b599",
   "metadata": {},
   "outputs": [],
   "source": [
    "df['female_threshold'] = df['female_director_ratio'].mask((df['female_director_ratio']<= 0.1) & (df['female_director_ratio']> 0), 0)\n",
    "df['female_threshold'] = df['female_threshold'].mask((df['female_director_ratio']<= 0.2) & (df['female_director_ratio']> 0.1), 1)\n",
    "df['female_threshold'] = df['female_threshold'].mask((df['female_director_ratio']<= 0.3) & (df['female_director_ratio']> 0.2), 2)\n",
    "df['female_threshold'] = df['female_threshold'].mask((df['female_director_ratio']> 0.3), 3)\n",
    "# df['female_threshold'] = df['female_threshold'].mask(df['female_director_ratio']< 0.1, 0)\n",
    "# df['female_class'] = df['female_director'].mask(df['female_director']>=4, 4)"
   ]
  },
  {
   "cell_type": "code",
   "execution_count": 44,
   "id": "8fe1a422-0997-40a6-b082-a4bd28ac35d9",
   "metadata": {},
   "outputs": [
    {
     "data": {
      "text/plain": [
       "0       0.0\n",
       "1       0.0\n",
       "2       0.0\n",
       "3       0.0\n",
       "4       1.0\n",
       "       ... \n",
       "6475    0.0\n",
       "6476    0.0\n",
       "6477    2.0\n",
       "6478    2.0\n",
       "6479    2.0\n",
       "Name: female_threshold, Length: 6480, dtype: float64"
      ]
     },
     "execution_count": 44,
     "metadata": {},
     "output_type": "execute_result"
    }
   ],
   "source": [
    "df['female_threshold']"
   ]
  },
  {
   "cell_type": "code",
   "execution_count": 45,
   "id": "579b910f-ea8f-4b34-8d37-a89a833f5220",
   "metadata": {},
   "outputs": [
    {
     "data": {
      "text/plain": [
       "\"\\ndf['female_director_01'] = df['female_director_ratio'].where(df['female_director']<=0.1, 0)\\ndf['female_director_01'] = df['female_director_01'].mask(df['female_director_01']==1, 1)\\n\\ndf['female_director_02'] = df['female_director'].where(df['female_director']==2, 0)\\ndf['female_director_02'] = df['female_director_02'].mask(df['female_director_02']==2, 1)\\n\\ndf['female_director_03'] = df['female_director'].where(df['female_director']>=3, 0)\\ndf['female_director_03'] = df['female_director_03'].mask(df['female_director_03']>=3, 1)\\n\""
      ]
     },
     "execution_count": 45,
     "metadata": {},
     "output_type": "execute_result"
    }
   ],
   "source": [
    "\"\"\"\n",
    "df['female_director_01'] = df['female_director_ratio'].where(df['female_director']<=0.1, 0)\n",
    "df['female_director_01'] = df['female_director_01'].mask(df['female_director_01']==1, 1)\n",
    "\n",
    "df['female_director_02'] = df['female_director'].where(df['female_director']==2, 0)\n",
    "df['female_director_02'] = df['female_director_02'].mask(df['female_director_02']==2, 1)\n",
    "\n",
    "df['female_director_03'] = df['female_director'].where(df['female_director']>=3, 0)\n",
    "df['female_director_03'] = df['female_director_03'].mask(df['female_director_03']>=3, 1)\n",
    "\"\"\""
   ]
  },
  {
   "cell_type": "code",
   "execution_count": 46,
   "id": "1e25785a-c798-4c6a-ad9d-d01cabca249a",
   "metadata": {},
   "outputs": [],
   "source": [
    "# df['female_director'][df['female_director_03']==1].sort_values()"
   ]
  },
  {
   "cell_type": "code",
   "execution_count": 47,
   "id": "395e38ac-8550-4ecb-a62a-4e982ae8e10d",
   "metadata": {},
   "outputs": [],
   "source": [
    "year = pd.get_dummies(df['year'], dtype='int')\n",
    "year = year.drop(2015, axis=1)\n",
    "industry = pd.get_dummies(df['industry_name'], dtype='int')\n",
    "industry = industry.drop(\"その他製品\", axis=1)"
   ]
  },
  {
   "cell_type": "code",
   "execution_count": 58,
   "id": "c67c166f-e52d-49ee-82f1-3cd210330745",
   "metadata": {},
   "outputs": [],
   "source": [
    "Y_cols = ['lag_log_tobin_q_winsor']\n",
    "# Y_cols = ['roa']\n",
    "W_cols = [\n",
    "    'board_size', \n",
    "    'log_firm_age', \n",
    "    'log_sales',\n",
    "    'sales_growth', \n",
    "    'foreign_ownership', \n",
    "    'managerial_ownership',\n",
    "    'tangible_assets', \n",
    "    'leverage',\n",
    "    'roa',\n",
    "#     'net_income',\n",
    "#     'log_total_assets'\n",
    "]\n",
    "X_cols = []\n",
    "# T_cols = ['female_director_ratio']\n",
    "T_cols = ['female_director']\n",
    "# T_cols = ['female_director_01', 'female_director_02', 'female_director_03', 'female_director_04']\n",
    "T_cols = ['female_threshold']\n",
    "G_cols = ['ticker']"
   ]
  },
  {
   "cell_type": "code",
   "execution_count": 59,
   "id": "d53558af-f76e-481e-b4cf-c6294e31f603",
   "metadata": {},
   "outputs": [],
   "source": [
    "mundlak_W = df.groupby(by='ticker')[W_cols].transform(\"mean\")\n",
    "mundlak_W.columns = [f\"{col}_mean\" for col in mundlak_W.columns]\n",
    "\n",
    "mundlak_T = df.groupby(by='ticker')[T_cols].transform(\"mean\")\n",
    "mundlak_T.columns = [f\"{col}_mean\" for col in mundlak_T.columns]"
   ]
  },
  {
   "cell_type": "code",
   "execution_count": 60,
   "id": "ce4f2416-3ac7-41db-a49d-ce9da1df3caf",
   "metadata": {},
   "outputs": [],
   "source": [
    "# コントロール変数\n",
    "W = df[W_cols]\n",
    "# W = (W - W.mean()) / W.std()\n",
    "W = W.join(mundlak_T).join(mundlak_W)\n",
    "W = W.join(year).join(industry)\n",
    "\n",
    "# 説明変数\n",
    "X = df[X_cols]\n",
    "\n",
    "# 出力\n",
    "Y = df[Y_cols]\n",
    "\n",
    "# 介入\n",
    "T = df[T_cols]\n",
    "\n",
    "# Groups\n",
    "G = df['ticker']\n",
    "\n",
    "tmp = pd.concat((W, X, Y, T, G), axis=1).dropna(how='any', axis=0)\n",
    "\n",
    "W = W.loc[tmp.index]\n",
    "X = X.loc[tmp.index]\n",
    "Y = Y.loc[tmp.index]\n",
    "T = T.loc[tmp.index]\n",
    "G = G.loc[tmp.index]"
   ]
  },
  {
   "cell_type": "code",
   "execution_count": 61,
   "id": "b5011910-b4f0-4487-9653-f25757ee2411",
   "metadata": {},
   "outputs": [],
   "source": [
    "with open(\"best_params_y.json\", mode='r') as f:\n",
    "    best_params = json.load(f)\n",
    "model_y = LGBMRegressor(force_row_wise=True, verbose=-1, **best_params) \n",
    "\n",
    "with open(\"best_params_t.json\", mode='r') as f:\n",
    "    best_params = json.load(f)\n",
    "\n",
    "model_t = LGBMClassifier(objective='multiclass', class_weight='balanced')\n",
    "# model_t = LGBMRegressor(force_row_wise=True, verbose=-1, **best_params) # LinearRegression()"
   ]
  },
  {
   "cell_type": "code",
   "execution_count": 62,
   "id": "f0e38c29-e4b9-45ca-ae63-91d9de87c7a3",
   "metadata": {},
   "outputs": [
    {
     "data": {
      "text/plain": [
       "<econml.dml.dml.LinearDML at 0x333c2b2d0>"
      ]
     },
     "execution_count": 62,
     "metadata": {},
     "output_type": "execute_result"
    }
   ],
   "source": [
    "dml0 = LinearDML(\n",
    "    model_y=model_y, model_t=model_t, cv=GroupKFold(n_splits=3), discrete_treatment=True)\n",
    "\n",
    "dml0.fit(Y.values.ravel(),\n",
    "         T=T.values,\n",
    "#          X=X.values,\n",
    "         W=W.values, \n",
    "         groups=G.values, cache_values=True)\n",
    "\n",
    "#y_res, t_res, _, _ = dml0.residuals_\n",
    "#y_hat = Y.values.ravel() - y_res\n",
    "#t_hat = T.values.ravel() - t_res"
   ]
  },
  {
   "cell_type": "code",
   "execution_count": null,
   "id": "151cd1ca-7d66-422c-8f50-4358f05308c0",
   "metadata": {},
   "outputs": [],
   "source": []
  },
  {
   "cell_type": "code",
   "execution_count": null,
   "id": "e1d84a7a-0cc0-46c5-b475-5a20ab887738",
   "metadata": {},
   "outputs": [],
   "source": []
  },
  {
   "cell_type": "code",
   "execution_count": null,
   "id": "99c488f2-a636-4fa8-99e3-344c1c7b4543",
   "metadata": {},
   "outputs": [],
   "source": []
  },
  {
   "cell_type": "code",
   "execution_count": null,
   "id": "b93d34da-5746-4b69-8dba-8bc899369e25",
   "metadata": {},
   "outputs": [],
   "source": []
  }
 ],
 "metadata": {
  "kernelspec": {
   "display_name": "Python 3 (ipykernel)",
   "language": "python",
   "name": "python3"
  },
  "language_info": {
   "codemirror_mode": {
    "name": "ipython",
    "version": 3
   },
   "file_extension": ".py",
   "mimetype": "text/x-python",
   "name": "python",
   "nbconvert_exporter": "python",
   "pygments_lexer": "ipython3",
   "version": "3.11.0"
  }
 },
 "nbformat": 4,
 "nbformat_minor": 5
}
