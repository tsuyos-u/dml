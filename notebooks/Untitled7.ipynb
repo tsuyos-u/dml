{
 "cells": [
  {
   "cell_type": "code",
   "execution_count": 1,
   "id": "d86a2e3f-da2f-49e0-b93b-a07128ec1afb",
   "metadata": {},
   "outputs": [],
   "source": [
    "import joblib\n",
    "from pathlib import Path\n",
    "\n",
    "from econml.dml import LinearDML, DML\n",
    "from econml.inference import BootstrapInference\n",
    "from lightgbm import LGBMRegressor, LGBMClassifier\n",
    "import matplotlib.pyplot as plt\n",
    "import numpy as np\n",
    "import pandas as pd\n",
    "import seaborn as sns\n",
    "import tqdm\n",
    "\n",
    "from sklearn.linear_model import RidgeCV, LogisticRegression, LinearRegression\n",
    "from sklearn.model_selection import GroupKFold, StratifiedGroupKFold\n",
    "from sklearn.base import clone"
   ]
  },
  {
   "cell_type": "code",
   "execution_count": 2,
   "id": "1a7ac116-4d08-4c8c-b2ab-5b9208833400",
   "metadata": {},
   "outputs": [
    {
     "name": "stderr",
     "output_type": "stream",
     "text": [
      "No GPU automatically detected. Setting SETTINGS.GPU to 0, and SETTINGS.NJOBS to cpu_count.\n"
     ]
    }
   ],
   "source": [
    "from cdt.independence.stats import NormalizedHSIC\n",
    "# from cdt.independence.kernnls import KCI"
   ]
  },
  {
   "cell_type": "code",
   "execution_count": 3,
   "id": "2fbda712-b43d-4b1e-a877-d6d13685bb61",
   "metadata": {},
   "outputs": [],
   "source": [
    "models = Path(\"models\") / \"wild_bootstrap\"\n",
    "models.mkdir(parents=True, exist_ok=True)\n",
    "\n",
    "data_path = Path(\"../data\")\n",
    "file_name = \"ToAnalysis_Winsorized_2015_2023_With_Profit_Asset.csv\"\n",
    "file_path = data_path / file_name\n",
    "\n",
    "df = pd.read_csv(file_path, parse_dates=['start date'])\n",
    "df.columns = [col.replace(\" \", \"_\").lower() for col in df.columns]\n",
    "df = df.sort_values(by=['ticker', 'start_date'])\n",
    "\n",
    "df[\"log_tobin_q_winsor\"] = np.log(df['tobin_q_winsor'])\n",
    "df[\"year\"] = df.start_date.dt.year\n",
    "df[\"roa\"] = df[\"net_income\"].div(df[\"total_assets\"])\n",
    "df[\"log_female_director_ratio\"] = np.log(df[\"female_director_ratio\"] + 1e-3)"
   ]
  },
  {
   "cell_type": "code",
   "execution_count": 4,
   "id": "ea3853af-d631-455a-86e0-7f61d522b5cd",
   "metadata": {},
   "outputs": [],
   "source": [
    "year = pd.get_dummies(df['year'], dtype='int', drop_first=True)\n",
    "industry = pd.get_dummies(df['industry_name'], dtype='int')\n",
    "industry = industry.drop(\"その他製品\", axis=1)"
   ]
  },
  {
   "cell_type": "code",
   "execution_count": 5,
   "id": "978f1145-6890-4a3f-bed8-b220b85880fe",
   "metadata": {},
   "outputs": [],
   "source": [
    "Y_cols = ['log_tobin_q_winsor']\n",
    "W_cols = [\n",
    "    'board_size', \n",
    "    'log_firm_age', \n",
    "    'log_sales',\n",
    "    'sales_growth', \n",
    "    'tangible_assets', \n",
    "    'leverage',\n",
    "#     'foreign_ownership',\n",
    "#     'managerial_ownership',\n",
    "]\n",
    "T_cols = ['female_director_ratio']\n",
    "G_cols = ['ticker']\n",
    "X_cols = ['foreign_ownership', 'managerial_ownership']"
   ]
  },
  {
   "cell_type": "code",
   "execution_count": 6,
   "id": "45b5f453-a72a-4151-9d8f-335ca5f19773",
   "metadata": {},
   "outputs": [],
   "source": [
    "mundlak_W = df.groupby(by='ticker')[W_cols + X_cols].transform(\"mean\")\n",
    "mundlak_W.columns = [f\"{col}_mean\" for col in mundlak_W.columns]\n",
    "\n",
    "mundlak_T = df.groupby(by='ticker')[T_cols].transform(\"mean\")\n",
    "mundlak_T.columns = [f\"{col}_mean\" for col in mundlak_T.columns]"
   ]
  },
  {
   "cell_type": "code",
   "execution_count": 7,
   "id": "3964db48-98cb-438e-a594-d6ccdb1f5649",
   "metadata": {},
   "outputs": [],
   "source": [
    "# コントロール変数\n",
    "W = df[W_cols].join(mundlak_T).join(mundlak_W).join(year).join(industry)\n",
    "\n",
    "# 説明変数\n",
    "X = df[X_cols]# \n",
    "# .join(industry)\n",
    "\n",
    "# 出力\n",
    "Y = df[Y_cols]\n",
    "\n",
    "# 介入\n",
    "T = df[T_cols]\n",
    "\n",
    "# Groups\n",
    "G = df['ticker']\n",
    "\n",
    "tmp = pd.concat((W, X, Y, T, G), axis=1).dropna(how='any', axis=0)\n",
    "\n",
    "W = W.loc[tmp.index]\n",
    "X = X.loc[tmp.index]\n",
    "Y = Y.loc[tmp.index]\n",
    "T = T.loc[tmp.index]\n",
    "G = G.loc[tmp.index]"
   ]
  },
  {
   "cell_type": "code",
   "execution_count": 20,
   "id": "5458a44c-c135-4174-aa8c-9a7cca8e03dd",
   "metadata": {},
   "outputs": [],
   "source": [
    "# data = np.column_stack((Y, T, X, W))\n",
    "# cond_set = list(range(2, data.shape[1])) "
   ]
  },
  {
   "cell_type": "code",
   "execution_count": 19,
   "id": "d29db449-986b-4e88-84e4-83c5ff52208c",
   "metadata": {},
   "outputs": [],
   "source": [
    "# kci = CIT(data, \"kci\")                   # ①インスタンス化\n",
    "# p_val = kci(0, 1, cond_set)                   # ← 位置引数で呼ぶ\n",
    "# print(f\"KCI p-value = {p_val:.4g}\")\n",
    "# p_val = kci(X_id=0, Y_id=1, S_id=[2])    # ②p値を取得\n",
    "# print(f'p = {p_val:.4g}')"
   ]
  },
  {
   "cell_type": "code",
   "execution_count": 18,
   "id": "c7e8966f-4ea2-41f5-bb05-495e838561b0",
   "metadata": {},
   "outputs": [],
   "source": [
    "# 条件付き独立性が満たされていない\n",
    "# np.column_stack(X, W)"
   ]
  },
  {
   "cell_type": "code",
   "execution_count": null,
   "id": "7324a752-6d14-4893-9d6b-87d1f101c5d4",
   "metadata": {},
   "outputs": [],
   "source": []
  }
 ],
 "metadata": {
  "kernelspec": {
   "display_name": "Python 3 (ipykernel)",
   "language": "python",
   "name": "python3"
  },
  "language_info": {
   "codemirror_mode": {
    "name": "ipython",
    "version": 3
   },
   "file_extension": ".py",
   "mimetype": "text/x-python",
   "name": "python",
   "nbconvert_exporter": "python",
   "pygments_lexer": "ipython3",
   "version": "3.11.0"
  }
 },
 "nbformat": 4,
 "nbformat_minor": 5
}
