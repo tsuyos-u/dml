{
 "cells": [
  {
   "cell_type": "code",
   "execution_count": 1,
   "id": "ac9eb8ce-9fa5-467a-bd5d-0f40d73d22a0",
   "metadata": {},
   "outputs": [],
   "source": [
    "from pathlib import Path\n",
    "import joblib\n",
    "import pandas as pd"
   ]
  },
  {
   "cell_type": "code",
   "execution_count": 2,
   "id": "4f7f4e28-e353-4356-9b58-de2408f461b3",
   "metadata": {},
   "outputs": [],
   "source": [
    "class GroupStratifiedKFold:\n",
    "    def __init__(self, n_splits: int = 3, random_state: int = None):\n",
    "        self.sgk = StratifiedGroupKFold(\n",
    "            n_splits=n_splits,\n",
    "            shuffle=True,\n",
    "            random_state=random_state\n",
    "        )\n",
    "\n",
    "    def split(self, X, y, groups):\n",
    "        return self.sgk.split(X, y, groups)"
   ]
  },
  {
   "cell_type": "code",
   "execution_count": 3,
   "id": "a2699c9f-bf60-4345-b78d-aeee54ad290d",
   "metadata": {},
   "outputs": [],
   "source": [
    "dir_path = Path('models') / \"simple\" / \"threshold_effect_cat_lag\""
   ]
  },
  {
   "cell_type": "code",
   "execution_count": 4,
   "id": "0b466f89-8b06-4818-b2f5-d33225af8ca6",
   "metadata": {},
   "outputs": [
    {
     "data": {
      "text/plain": [
       "[PosixPath('models/simple/threshold_effect_cat_lag'),\n",
       " PosixPath('models/simple/female_director_ratio'),\n",
       " PosixPath('models/simple/threshold_effect'),\n",
       " PosixPath('models/simple/.ipynb_checkpoints'),\n",
       " PosixPath('models/simple/threshold_effect_cat')]"
      ]
     },
     "execution_count": 4,
     "metadata": {},
     "output_type": "execute_result"
    }
   ],
   "source": [
    "[f for f in (Path('models') / \"simple\").iterdir()]"
   ]
  },
  {
   "cell_type": "code",
   "execution_count": 5,
   "id": "f2949dde-468e-4e51-8a58-568bf0cc0434",
   "metadata": {},
   "outputs": [],
   "source": [
    "# \"models/simple/female_director_ratio/\"\n",
    "ATE = list()\n",
    "for file_path in sorted(dir_path.glob(\"*\")):\n",
    "    with open(file_path, mode='rb') as f:\n",
    "        m = joblib.load(f)\n",
    "        ATE.append(pd.Series(m.intercept_, index=[0.1, 0.2, 0.3]))\n",
    "\n",
    "ATE = pd.DataFrame(ATE)"
   ]
  },
  {
   "cell_type": "code",
   "execution_count": 6,
   "id": "f123ba64-4805-4f3d-8572-82d0c5aa7122",
   "metadata": {},
   "outputs": [
    {
     "name": "stdout",
     "output_type": "stream",
     "text": [
      "0.1   -0.010275\n",
      "0.2   -0.069575\n",
      "0.3   -0.029889\n",
      "Name: 0.025, dtype: float64 0.1   -0.005373\n",
      "0.2   -0.050510\n",
      "0.3   -0.016827\n",
      "Name: 0.05, dtype: float64\n"
     ]
    }
   ],
   "source": [
    "# ATE[0.3].plot(kind='hist')\n",
    "print(ATE.quantile(0.025), ATE.quantile(0.05))"
   ]
  },
  {
   "cell_type": "code",
   "execution_count": 7,
   "id": "d43e2431-46de-4e5e-bb2b-393df12532f6",
   "metadata": {},
   "outputs": [
    {
     "data": {
      "text/plain": [
       "0.1    0.036359\n",
       "0.2    0.034204\n",
       "0.3    0.101412\n",
       "Name: 0.5, dtype: float64"
      ]
     },
     "execution_count": 7,
     "metadata": {},
     "output_type": "execute_result"
    }
   ],
   "source": [
    "ATE.quantile(0.5)"
   ]
  },
  {
   "cell_type": "code",
   "execution_count": 8,
   "id": "dcc4878f-30fe-4644-a955-1496342fb6de",
   "metadata": {},
   "outputs": [],
   "source": [
    "# import numpy as np\n",
    "# np.exp(0.04) - 1"
   ]
  },
  {
   "cell_type": "code",
   "execution_count": null,
   "id": "e50ae325-167a-4b42-950c-39b861e3788f",
   "metadata": {},
   "outputs": [],
   "source": []
  }
 ],
 "metadata": {
  "kernelspec": {
   "display_name": "Python 3 (ipykernel)",
   "language": "python",
   "name": "python3"
  },
  "language_info": {
   "codemirror_mode": {
    "name": "ipython",
    "version": 3
   },
   "file_extension": ".py",
   "mimetype": "text/x-python",
   "name": "python",
   "nbconvert_exporter": "python",
   "pygments_lexer": "ipython3",
   "version": "3.11.0"
  }
 },
 "nbformat": 4,
 "nbformat_minor": 5
}
